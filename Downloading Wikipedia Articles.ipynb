{
 "cells": [
  {
   "cell_type": "markdown",
   "metadata": {},
   "source": [
    "# Introduction: Downloading Wikipedia Articles\n",
    "\n",
    "In this notebook, we will download all of the latest wikipedia articles. After getting the data, we'll work on making sense of it using data science!"
   ]
  },
  {
   "cell_type": "code",
   "execution_count": 1,
   "metadata": {},
   "outputs": [],
   "source": [
    "import requests\n",
    "from bs4 import BeautifulSoup\n",
    "import os\n",
    "# import time\n",
    "# from keras.utils import get_file\n",
    "# try:\n",
    "#     from urllib.request import urlretrieve\n",
    "# except ImportError:\n",
    "#     from urllib import urlretrieve\n",
    "# import xml.sax\n",
    "\n",
    "# import subprocess\n",
    "# import mwparserfromhell\n",
    "# import json"
   ]
  },
  {
   "cell_type": "markdown",
   "metadata": {},
   "source": [
    "## Searching through Wikipedia Dump\n",
    "\n",
    "To start, we make a request to the wikimedia dump of Wikipedia. We'll search through `enwiki` which has the English language dumps of wikipedia. This first request finds the available recent dumps and lists them."
   ]
  },
  {
   "cell_type": "code",
   "execution_count": 2,
   "metadata": {},
   "outputs": [
    {
     "data": {
      "text/plain": [
       "['../',\n",
       " '20180601/',\n",
       " '20180620/',\n",
       " '20180701/',\n",
       " '20180720/',\n",
       " '20180801/',\n",
       " '20180820/',\n",
       " '20180901/',\n",
       " 'latest/']"
      ]
     },
     "execution_count": 2,
     "metadata": {},
     "output_type": "execute_result"
    }
   ],
   "source": [
    "base_url = 'https://dumps.wikimedia.org/enwiki/'\n",
    "index = requests.get(base_url).text\n",
    "soup_index = BeautifulSoup(index, 'html.parser')\n",
    "\n",
    "# Find the links that are dates of dumps\n",
    "dumps = [a['href'] for a in soup_index.find_all('a') if \n",
    "         a.has_attr('href')]\n",
    "dumps"
   ]
  },
  {
   "cell_type": "markdown",
   "metadata": {},
   "source": [
    "The next line of code finds the html of the dump for the first of September."
   ]
  },
  {
   "cell_type": "code",
   "execution_count": 3,
   "metadata": {},
   "outputs": [],
   "source": [
    "dump_url = base_url + '20180901/'\n",
    "\n",
    "# Retrieve the html\n",
    "dump_html = requests.get(dump_url).text"
   ]
  },
  {
   "cell_type": "markdown",
   "metadata": {},
   "source": [
    "Now we can parse through the html text to find the available files for download. We will focus only on the most recent revision of the articles themselves. It is possible to get the past history of articles, the edits, the discussion, and metadata, but the articles themselves provide us with more than enough data! \n",
    "\n",
    "For more information on the available downloads, take a look at the [Wikimedia dump](https://dumps.wikimedia.org/) or on [Wikipedia itself](https://en.wikipedia.org/wiki/Wikipedia:Database_download#English-language_Wikipedia)."
   ]
  },
  {
   "cell_type": "markdown",
   "metadata": {},
   "source": [
    "The most recent revision of every single article (what we are after) is available in a single file as `pages-articles.xml.bz2`. However, we'll download the articles in smaller chunks so that we can then process it in parallel (rather than all sequentially). The single file - which is compressed XML (using bz) - is over 15 GB. \n",
    "\n",
    "To find all the individual files, we'll search through the html from the dump identified earlier. We'll look for any files that have `pages_articles` in the text. To parse through html (or other markup languages), we can use Beautiful Soup. If you are doing any web scraping, this will be a very useful library to learn! "
   ]
  },
  {
   "cell_type": "code",
   "execution_count": 4,
   "metadata": {},
   "outputs": [
    {
     "data": {
      "text/plain": [
       "<li class=\"file\"><a href=\"/enwiki/20180901/enwiki-20180901-pages-articles-multistream.xml.bz2\">enwiki-20180901-pages-articles-multistream.xml.bz2</a> 15.2 GB</li>"
      ]
     },
     "execution_count": 4,
     "metadata": {},
     "output_type": "execute_result"
    }
   ],
   "source": [
    "# Convert to a soup\n",
    "soup_dump = BeautifulSoup(dump_html, 'html.parser')\n",
    "soup_dump.find_all('li', {'class': 'file'}, limit = 10)[0]"
   ]
  },
  {
   "cell_type": "code",
   "execution_count": 5,
   "metadata": {},
   "outputs": [
    {
     "data": {
      "text/plain": [
       "[('enwiki-20180901-pages-articles-multistream.xml.bz2', ['15.2', 'GB']),\n",
       " ('enwiki-20180901-pages-articles-multistream-index.txt.bz2', ['195.6', 'MB']),\n",
       " ('enwiki-20180901-pages-articles.xml.bz2', ['14.3', 'GB']),\n",
       " ('enwiki-20180901-pages-articles1.xml-p10p30302.bz2', ['165.3', 'MB']),\n",
       " ('enwiki-20180901-pages-articles2.xml-p30304p88444.bz2', ['195.8', 'MB']),\n",
       " ('enwiki-20180901-pages-articles3.xml-p88445p200507.bz2', ['251.7', 'MB']),\n",
       " ('enwiki-20180901-pages-articles4.xml-p200511p352689.bz2', ['257.3', 'MB']),\n",
       " ('enwiki-20180901-pages-articles5.xml-p352690p565312.bz2', ['281.7', 'MB']),\n",
       " ('enwiki-20180901-pages-articles6.xml-p565314p892912.bz2', ['303.9', 'MB']),\n",
       " ('enwiki-20180901-pages-articles7.xml-p892914p1268691.bz2', ['311.4', 'MB'])]"
      ]
     },
     "execution_count": 5,
     "metadata": {},
     "output_type": "execute_result"
    }
   ],
   "source": [
    "files = []\n",
    "\n",
    "# Search through all files\n",
    "for file in soup_dump.find_all('li', {'class': 'file'}):\n",
    "    text = file.text\n",
    "    # Select the relevant files\n",
    "    if 'pages-articles' in text:\n",
    "        files.append((text.split()[0], text.split()[1:]))\n",
    "        \n",
    "files[:10]"
   ]
  },
  {
   "cell_type": "markdown",
   "metadata": {},
   "source": [
    "We only want the partitioned files (each of which has tens or hundreds of thousands of articles), so we can further our selection."
   ]
  },
  {
   "cell_type": "code",
   "execution_count": 6,
   "metadata": {},
   "outputs": [
    {
     "data": {
      "text/plain": [
       "['enwiki-20180901-pages-articles27.xml-p44163464p45663464.bz2',\n",
       " 'enwiki-20180901-pages-articles27.xml-p45663464p47163464.bz2',\n",
       " 'enwiki-20180901-pages-articles27.xml-p47163464p48663464.bz2',\n",
       " 'enwiki-20180901-pages-articles27.xml-p48663464p50163464.bz2',\n",
       " 'enwiki-20180901-pages-articles27.xml-p50163464p51663464.bz2',\n",
       " 'enwiki-20180901-pages-articles27.xml-p51663464p53163464.bz2',\n",
       " 'enwiki-20180901-pages-articles27.xml-p53163464p54663464.bz2',\n",
       " 'enwiki-20180901-pages-articles27.xml-p54663464p56163464.bz2',\n",
       " 'enwiki-20180901-pages-articles27.xml-p56163464p57663464.bz2',\n",
       " 'enwiki-20180901-pages-articles27.xml-p57663464p58360959.bz2']"
      ]
     },
     "execution_count": 6,
     "metadata": {},
     "output_type": "execute_result"
    }
   ],
   "source": [
    "files_to_download = [file[0] for file in files if '.xml-p' in file[0]]\n",
    "files_to_download[-10:]"
   ]
  },
  {
   "cell_type": "markdown",
   "metadata": {},
   "source": [
    "## Download Data\n",
    "\n",
    "Now we need to actually download the data. This can be done using the keras `get_file` utility which downloads the specified file at the specified url. If we already have the entire dataset downloaded, then we don't want to download it again! For that reason we first use a check to see if the data exists.\n",
    "\n",
    "The default download directory for keras is `~/.keras/datasets`."
   ]
  },
  {
   "cell_type": "code",
   "execution_count": 7,
   "metadata": {},
   "outputs": [
    {
     "name": "stderr",
     "output_type": "stream",
     "text": [
      "Using TensorFlow backend.\n"
     ]
    }
   ],
   "source": [
    "import sys\n",
    "from keras.utils import get_file\n",
    "\n",
    "keras_home = '/home/ubuntu/.keras/datasets/'"
   ]
  },
  {
   "cell_type": "code",
   "execution_count": 9,
   "metadata": {},
   "outputs": [],
   "source": [
    "data_paths = []\n",
    "file_info = []\n",
    "\n",
    "# Iterate through each file\n",
    "for file in files_to_download:\n",
    "    path = keras_home + file\n",
    "    \n",
    "    # Check to see if the path exists\n",
    "    if not os.path.exists(keras_home + file):\n",
    "        print('Downloading')\n",
    "        # If not, download the file\n",
    "        data_paths.append(get_file(file, dump_url))\n",
    "        # Find the file size in MB\n",
    "        file_size = os.stat(path).st_size / 1e6\n",
    "        \n",
    "        # Find the number of articles\n",
    "        file_articles = int(file.split('p')[-1].split('.')[-2]) - int(file.split('p')[-2])\n",
    "        file_info.append((file, file_size, file_articles))\n",
    "        \n",
    "    # Otherwise extract information\n",
    "    else:\n",
    "        data_paths.append(path)\n",
    "        # Find the file size in MB\n",
    "        file_size = os.stat(path).st_size / 1e6\n",
    "        \n",
    "        # Find the number of articles\n",
    "        file_articles = int(file.split('p')[-1].split('.')[-2]) - int(file.split('p')[-2])\n",
    "        file_info.append((file.split('-')[-1], file_size, file_articles))"
   ]
  },
  {
   "cell_type": "markdown",
   "metadata": {},
   "source": [
    "What is the largest file? We can use `sorted` to sort by the file size."
   ]
  },
  {
   "cell_type": "code",
   "execution_count": 10,
   "metadata": {},
   "outputs": [
    {
     "data": {
      "text/plain": [
       "[('p6197599p7697599.bz2', 397.133836, 1500000),\n",
       " ('p3926864p5040435.bz2', 396.765417, 1113571),\n",
       " ('p5040438p6197593.bz2', 390.834855, 1157155),\n",
       " ('p3046517p3926861.bz2', 383.739076, 880344),\n",
       " ('p7744803p9244803.bz2', 374.264421, 1500000)]"
      ]
     },
     "execution_count": 10,
     "metadata": {},
     "output_type": "execute_result"
    }
   ],
   "source": [
    "sorted(file_info, key = lambda x: x[1], reverse = True)[:5]"
   ]
  },
  {
   "cell_type": "markdown",
   "metadata": {},
   "source": [
    "How about the file with the most articles? Just change the key for sorting."
   ]
  },
  {
   "cell_type": "code",
   "execution_count": 11,
   "metadata": {},
   "outputs": [
    {
     "data": {
      "text/plain": [
       "[('p6197599p7697599.bz2', 397.133836, 1500000),\n",
       " ('p7744803p9244803.bz2', 374.264421, 1500000),\n",
       " ('p9518059p11018059.bz2', 310.0126, 1500000),\n",
       " ('p11539268p13039268.bz2', 369.371949, 1500000),\n",
       " ('p13693075p15193075.bz2', 352.199415, 1500000)]"
      ]
     },
     "execution_count": 11,
     "metadata": {},
     "output_type": "execute_result"
    }
   ],
   "source": [
    "sorted(file_info, key = lambda x: x[2], reverse = True)[:5]"
   ]
  },
  {
   "cell_type": "markdown",
   "metadata": {},
   "source": [
    "It looks like the largest files are about 400 MB compressed (bz2) and contain 150,000 articles. There should be a total of 58 million articles on English wikipedia."
   ]
  },
  {
   "cell_type": "markdown",
   "metadata": {},
   "source": [
    "How about putting this info into a dataframe?"
   ]
  },
  {
   "cell_type": "code",
   "execution_count": 12,
   "metadata": {},
   "outputs": [
    {
     "data": {
      "image/png": "[encoded data removed]",
      "text/plain": [
       "<Figure size 864x432 with 1 Axes>"
      ]
     },
     "metadata": {},
     "output_type": "display_data"
    }
   ],
   "source": [
    "import pandas as pd\n",
    "import matplotlib.pyplot as plt\n",
    "%matplotlib inline\n",
    "file_df = pd.DataFrame(file_info, columns = ['file', 'size (MB)', 'articles']).set_index('file')\n",
    "file_df['size (MB)'].plot.bar(color = 'red', figsize = (12, 6));"
   ]
  },
  {
   "cell_type": "code",
   "execution_count": 13,
   "metadata": {},
   "outputs": [
    {
     "data": {
      "image/png": "[encoded data removed]",
      "text/plain": [
       "<Figure size 864x432 with 1 Axes>"
      ]
     },
     "metadata": {},
     "output_type": "display_data"
    }
   ],
   "source": [
    "file_df['articles'].plot.bar(color = 'red', figsize = (12, 6));\n",
    "plt.ylabel('Number of Articles');"
   ]
  },
  {
   "cell_type": "markdown",
   "metadata": {},
   "source": [
    "It looks like the upper limit for number of articles is 150,000."
   ]
  },
  {
   "cell_type": "code",
   "execution_count": 14,
   "metadata": {},
   "outputs": [
    {
     "name": "stdout",
     "output_type": "stream",
     "text": [
      "There are 58360835 total articles.\n"
     ]
    }
   ],
   "source": [
    "print(f\"There are {file_df['articles'].sum()} total articles.\")"
   ]
  },
  {
   "cell_type": "markdown",
   "metadata": {},
   "source": [
    "There are a total of 58,360,835 articles, which represents all of English language Wikipedia on September 1!"
   ]
  },
  {
   "cell_type": "code",
   "execution_count": 16,
   "metadata": {},
   "outputs": [
    {
     "name": "stdout",
     "output_type": "stream",
     "text": [
      "The total size of files on disk is 15.398009268 GB\n"
     ]
    }
   ],
   "source": [
    "print(f\"The total size of files on disk is {file_df['size (MB)'].sum() / 1e3} GB\")"
   ]
  },
  {
   "cell_type": "markdown",
   "metadata": {},
   "source": [
    "# Sorting Through the Data\n",
    "\n",
    "Together, the files take up 15.4 GB. Decompressed as xml, it's close to 50 GB. We could decompress each file into XML and then parse through it, but we can also parse through the decompressed file one line at a time. If we are concered about disk space, this is a better option. Working through the compressed file one line at a time also might be the only option is cases where the individual files are too large to fit in memory. \n",
    "\n",
    "We'll start by working through one of the files and then develop functions that we can run on all of the files. Because we downloaded the data in chunks, we'll be able to parallelize the parsing operations using multiple threads on our machine.\n",
    "\n",
    "To get started, make sure you have `bzcat` installed on your system. The [`bzcat` utility] (http://www.qnx.com/developers/docs/6.5.0SP1.update/com.qnx.doc.neutrino_utilities/b/bzcat.html) is a command line program that decompresses a bz2 compressed file and sends the contents to standard out. To go through the files one line at a time, we simply iterate over the command to decompress the file. We call the command using `subprocess` which is often used to execute system commands in Python.\n",
    "\n",
    "Another option for decompressing the file is `bz2`. However, in tests (see below), I found this to be much slower than `bzcat`. "
   ]
  },
  {
   "cell_type": "code",
   "execution_count": 17,
   "metadata": {},
   "outputs": [
    {
     "data": {
      "text/plain": [
       "'/home/ubuntu/.keras/datasets/enwiki-20180901-pages-articles15.xml-p7744803p9244803.bz2'"
      ]
     },
     "execution_count": 17,
     "metadata": {},
     "output_type": "execute_result"
    }
   ],
   "source": [
    "import bz2\n",
    "import subprocess\n",
    "\n",
    "data_path = data_paths[15]\n",
    "data_path"
   ]
  },
  {
   "cell_type": "code",
   "execution_count": 18,
   "metadata": {},
   "outputs": [
    {
     "name": "stdout",
     "output_type": "stream",
     "text": [
      "5.08 s ± 55.6 ms per loop (mean ± std. dev. of 3 runs, 3 loops each)\n"
     ]
    }
   ],
   "source": [
    "%%timeit -n 3 -r 3\n",
    "\n",
    "lines = []\n",
    "for i, line in enumerate(bz2.BZ2File(data_path, 'r')):\n",
    "    lines.append(line)\n",
    "    if i > 1e6:\n",
    "        break"
   ]
  },
  {
   "cell_type": "code",
   "execution_count": 19,
   "metadata": {},
   "outputs": [
    {
     "name": "stdout",
     "output_type": "stream",
     "text": [
      "2.58 s ± 41.6 ms per loop (mean ± std. dev. of 3 runs, 3 loops each)\n"
     ]
    }
   ],
   "source": [
    "%%timeit -n 3 -r 3\n",
    "\n",
    "lines = []\n",
    "for i, line in enumerate(subprocess.Popen(['bzcat'], \n",
    "                         stdin = open(data_path), \n",
    "                         stdout = subprocess.PIPE).stdout):\n",
    "    lines.append(line)\n",
    "    if i > 1e6:\n",
    "        break"
   ]
  },
  {
   "cell_type": "markdown",
   "metadata": {},
   "source": [
    "The `subprocess` + `bzcat` approach is nearly twice as fast. Let's run this again and see what kind of data we have."
   ]
  },
  {
   "cell_type": "code",
   "execution_count": 20,
   "metadata": {},
   "outputs": [
    {
     "data": {
      "text/plain": [
       "[b'  <page>\\n',\n",
       " b'    <title>Carroll Knicely</title>\\n',\n",
       " b'    <ns>0</ns>\\n',\n",
       " b'    <id>7772446</id>\\n',\n",
       " b'    <revision>\\n',\n",
       " b'      <id>850825914</id>\\n',\n",
       " b'      <parentid>819310247</parentid>\\n',\n",
       " b'      <timestamp>2018-07-18T05:43:30Z</timestamp>\\n',\n",
       " b'      <contributor>\\n',\n",
       " b'        <username>Ser Amantio di Nicolao</username>\\n',\n",
       " b'        <id>753665</id>\\n',\n",
       " b'      </contributor>\\n',\n",
       " b'      <comment>/* External links */add authority control, test using [[Project:AWB|AWB]]</comment>\\n',\n",
       " b'      <model>wikitext</model>\\n',\n",
       " b'      <format>text/x-wiki</format>\\n',\n",
       " b'      <text xml:space=\"preserve\">\\'\\'\\'Carroll F. Knicely\\'\\'\\' (born c. 1929 in [[Staunton, Virginia]] - died November 2, 2006 in [[Glasgow, Kentucky]]) was [[Editing|editor]] and [[Publishing|publisher]] of the \\'\\'[[Glasgow Daily Times]]\\'\\' for nearly 20 years (and later, its owner) and served under three [[Governor of Kentucky|Kentucky Governors]] as commissioner and later Commerce Secretary.\\n',\n",
       " b'\\n',\n",
       " b'==Career in publishing==\\n',\n",
       " b\"Knicely started out as an [[apprentice]] [[Linotype machine|linotype]] operator at ''[[The News-Virginian]]''.  In 1957, he relocated to [[Glasgow, Kentucky]] as the president, editor and publisher of the ''Glasgow Daily Times''.  In 1963, Knicely and his wife Evely became the sole owners of the newspaper and of the Glasgow Publishing Corporation.  He also held interests in several newspapers all over [[Kentucky]] and was part owner of a weekly newspaper in [[Westmoreland, Tennessee]].\\n\",\n",
       " b'\\n',\n",
       " b'Knicely served as president of the Kentucky Press Association and president of the Kentucky Journalism Foundation. Under his leadership, the Glasgow Daily Times was named by the Kentucky Press Association as the best newspaper in its class in 1967.\\n',\n",
       " b'\\n',\n",
       " b'==Western Kentucky University==\\n',\n",
       " b\"Knicely was a supporter of [[Western Kentucky University]], where he served on the board of regents beginning in 1976. He was instrumental in the success of the university's nationally known journalism department.\\n\",\n",
       " b'\\n',\n",
       " b'Knicely was a [[philanthropist]], donating large sums of money to the Institute for Economic Development and Public Service at the university and to establish the Knicely Professorship in [[Leadership Studies]] and to create the Knicely Endowment, a permanent support fund to maintain and upgrade the Institute.\\n',\n",
       " b'\\n',\n",
       " b\"The Carroll Knicely Conference Center at Western Kentucky University's [[Bowling Green, Kentucky|Bowling Green]] campus is named in his honor.\\n\",\n",
       " b'\\n',\n",
       " b'==Civil service==\\n',\n",
       " b\"Knicely served as Commerce secretary under [[Democratic Party (United States)|Democratic]] governors [[Julian Carroll]], [[Martha Layne Collins]] and [[Wallace G. Wilkinson]].  While serving in the state's Commerce Cabinet as commissioner, he helped secure the location of the [[General Motors]] [[Chevrolet Corvette|Corvette]] plant in Bowling Green in 1981. Later, as commerce secretary, he was instrumental in bringing the [[Toyota Motor Corporation|Toyota]] plant to [[Georgetown, Kentucky]] in 1985.\\n\",\n",
       " b'\\n',\n",
       " b'==Personal life==\\n',\n",
       " b'Knicely had two sons and three daughters, four grandchildren and four great-grandchildren.\\n',\n",
       " b'\\n',\n",
       " b'==External links==\\n',\n",
       " b\"*[http://www.legacy.com/louisville/Obituaries.asp?Page=LifeStory&amp;PersonID=19811596 Carroll Knicely's obituary]\\n\",\n",
       " b'\\n',\n",
       " b'{{authority control}}\\n',\n",
       " b'\\n',\n",
       " b'{{DEFAULTSORT:Knicely, Carroll F.}}\\n',\n",
       " b'[[Category:1929 births]]\\n',\n",
       " b'[[Category:2006 deaths]]\\n',\n",
       " b'[[Category:Politicians from Staunton, Virginia]]\\n',\n",
       " b'[[Category:People from Glasgow, Kentucky]]\\n',\n",
       " b'[[Category:American newspaper editors]]\\n',\n",
       " b'[[Category:20th-century American newspaper publishers (people)]]\\n',\n",
       " b'[[Category:American philanthropists]]\\n',\n",
       " b'[[Category:State cabinet secretaries of Kentucky]]\\n',\n",
       " b'[[Category:Kentucky Democrats]]\\n',\n",
       " b'[[Category:Western Kentucky University people]]\\n',\n",
       " b'[[Category:20th-century American politicians]]\\n',\n",
       " b'[[Category:Journalists from Virginia]]</text>\\n',\n",
       " b'      <sha1>ne9lm35t87mct6z7cpe9peze3wat8ii</sha1>\\n',\n",
       " b'    </revision>\\n',\n",
       " b'  </page>\\n']"
      ]
     },
     "execution_count": 20,
     "metadata": {},
     "output_type": "execute_result"
    }
   ],
   "source": [
    "lines = []\n",
    "\n",
    "for i, line in enumerate(subprocess.Popen(['bzcat'], \n",
    "                         stdin = open(data_path), \n",
    "                         stdout = subprocess.PIPE).stdout):\n",
    "    lines.append(line)\n",
    "    if i > 5e5:\n",
    "        break\n",
    "        \n",
    "lines[-165:-109]"
   ]
  },
  {
   "cell_type": "markdown",
   "metadata": {},
   "source": [
    "Here we have a complete article. We could go through each article and extract out the information, but that would be extremely inefficient. Instead, we can use an xml parser to extract precisely the information we want."
   ]
  },
  {
   "cell_type": "markdown",
   "metadata": {},
   "source": [
    "## Parsing Articles \n",
    "\n",
    "In order to get useful information from this data, we have to parse it on two levels.\n",
    "\n",
    "1. Extract the titles and article text from the XML\n",
    "2. Extract relevant information from the article text\n",
    "\n",
    "To solve the first problem, we'll use tool purpose built for the task of parsing XML, SAX: The Simple API for XML. [The documentation](http://pyxml.sourceforge.net/topics/howto/section-SAX.html) is a little difficult to follow, but the basic idea is that we can use SAX to search through the XML and select elements based on the tag. (If you need an introduction to XML, I'd highly recommend starting [here](https://www.w3schools.com/xml/default.asp)).\n",
    "\n",
    "For example, if we have the follow XML element, we want to extract the text that occurs between the `<title>` tags:\n",
    "\n",
    "`<title>Carroll Knicely</title>`\n",
    "\n",
    "Likewise, if we have the content of an article like below, we want to extract the text that occurs between the `<text>` tags. \n",
    "\n",
    "```XML\n",
    "<text xml:space=\"preserve\">\\'\\'\\'Carroll F. Knicely\\'\\'\\' (born c. 1929 in [[Staunton, Virginia]] - died November 2, 2006 in [[Glasgow, Kentucky]]) was [[Editing|editor]] and [[Publishing|publisher]] of the \\'\\'[[Glasgow Daily Times]]\\'\\' for nearly 20 years (and later, its owner) and served under three [[Governor of Kentucky|Kentucky Governors]] as commissioner and later Commerce Secretary.\\n'\n",
    "</text>\n",
    "```\n",
    "\n",
    "We'll use the SAX parser to do exactly that: find the titles and text content of the articles. Then, we can pass the text to another parser to extract information from the article. \n",
    "\n",
    "Explaining how SAX works is a little more difficult than just showing, so I'll present the code and show some examples."
   ]
  },
  {
   "cell_type": "code",
   "execution_count": 21,
   "metadata": {},
   "outputs": [],
   "source": [
    "import xml.sax\n",
    "\n",
    "class WikiXmlHandler(xml.sax.handler.ContentHandler):\n",
    "    \"\"\"Parse through XML data using SAX\"\"\"\n",
    "    def __init__(self):\n",
    "        xml.sax.handler.ContentHandler.__init__(self)\n",
    "        self._buffer = None\n",
    "        self._values = {}\n",
    "        self._current_tag = None\n",
    "        self._pages = []\n",
    "\n",
    "    def characters(self, content):\n",
    "        \"\"\"Characters between opening and closing tags\"\"\"\n",
    "        if self._current_tag:\n",
    "            self._buffer.append(content)\n",
    "\n",
    "    def startElement(self, name, attrs):\n",
    "        \"\"\"Opening tag of element\"\"\"\n",
    "        if name in ('title', 'text'):\n",
    "            self._current_tag = name\n",
    "            self._buffer = []\n",
    "\n",
    "    def endElement(self, name):\n",
    "        \"\"\"Closing tag of element\"\"\"\n",
    "        if name == self._current_tag:\n",
    "            self._values[name] = ' '.join(self._buffer)\n",
    "\n",
    "        if name == 'page':\n",
    "            self._pages.append((self._values['title'], self._values['text']))"
   ]
  },
  {
   "cell_type": "markdown",
   "metadata": {},
   "source": [
    "We need to create a `handler` object of the `WikiXMLHandler` class. Then we pass the handler in as the content handler to a SAX `parser`. Basically, we are overriding the default SAX parser in order to do what we want: find the titles and texts."
   ]
  },
  {
   "cell_type": "code",
   "execution_count": 23,
   "metadata": {},
   "outputs": [
    {
     "data": {
      "text/plain": [
       "[]"
      ]
     },
     "execution_count": 23,
     "metadata": {},
     "output_type": "execute_result"
    }
   ],
   "source": [
    "# Object for handling xml\n",
    "handler = WikiXmlHandler()\n",
    "\n",
    "# Parsing object\n",
    "parser = xml.sax.make_parser()\n",
    "parser.setContentHandler(handler)\n",
    "\n",
    "handler._pages"
   ]
  },
  {
   "cell_type": "markdown",
   "metadata": {},
   "source": [
    "Let's work through a single article. We `feed` in one line of XML at a time to the `parser`. It searches the XML for the tags using the methods in the handler. The correct data is then stored in the handler. "
   ]
  },
  {
   "cell_type": "code",
   "execution_count": 24,
   "metadata": {},
   "outputs": [],
   "source": [
    "for l in lines[-165:-109]:\n",
    "    parser.feed(l)"
   ]
  },
  {
   "cell_type": "code",
   "execution_count": 25,
   "metadata": {},
   "outputs": [
    {
     "data": {
      "text/plain": [
       "[('Carroll Knicely',\n",
       "  \"'''Carroll F. Knicely''' (born c. 1929 in [[Staunton, Virginia]] - died November 2, 2006 in [[Glasgow, Kentucky]]) was [[Editing|editor]] and [[Publishing|publisher]] of the ''[[Glasgow Daily Times]]'' for nearly 20 years (and later, its owner) and served under three [[Governor of Kentucky|Kentucky Governors]] as commissioner and later Commerce Secretary. \\n \\n ==Career in publishing== \\n Knicely started out as an [[apprentice]] [[Linotype machine|linotype]] operator at ''[[The News-Virginian]]''.  In 1957, he relocated to [[Glasgow, Kentucky]] as the president, editor and publisher of the ''Glasgow Daily Times''.  In 1963, Knicely and his wife Evely became the sole owners of the newspaper and of the Glasgow Publishing Corporation.  He also held interests in several newspapers all over [[Kentucky]] and was part owner of a weekly newspaper in [[Westmoreland, Tennessee]]. \\n \\n Knicely served as president of the Kentucky Press Association and president of the Kentucky Journalism Foundation. Under his leadership, the Glasgow Daily Times was named by the Kentucky Press Association as the best newspaper in its class in 1967. \\n \\n ==Western Kentucky University== \\n Knicely was a supporter of [[Western Kentucky University]], where he served on the board of regents beginning in 1976. He was instrumental in the success of the university's nationally known journalism department. \\n \\n Knicely was a [[philanthropist]], donating large sums of money to the Institute for Economic Development and Public Service at the university and to establish the Knicely Professorship in [[Leadership Studies]] and to create the Knicely Endowment, a permanent support fund to maintain and upgrade the Institute. \\n \\n The Carroll Knicely Conference Center at Western Kentucky University's [[Bowling Green, Kentucky|Bowling Green]] campus is named in his honor. \\n \\n ==Civil service== \\n Knicely served as Commerce secretary under [[Democratic Party (United States)|Democratic]] governors [[Julian Carroll]], [[Martha Layne Collins]] and [[Wallace G. Wilkinson]].  While serving in the state's Commerce Cabinet as commissioner, he helped secure the location of the [[General Motors]] [[Chevrolet Corvette|Corvette]] plant in Bowling Green in 1981. Later, as commerce secretary, he was instrumental in bringing the [[Toyota Motor Corporation|Toyota]] plant to [[Georgetown, Kentucky]] in 1985. \\n \\n ==Personal life== \\n Knicely had two sons and three daughters, four grandchildren and four great-grandchildren. \\n \\n ==External links== \\n *[http://www.legacy.com/louisville/Obituaries.asp?Page=LifeStory & PersonID=19811596 Carroll Knicely's obituary] \\n \\n {{authority control}} \\n \\n {{DEFAULTSORT:Knicely, Carroll F.}} \\n [[Category:1929 births]] \\n [[Category:2006 deaths]] \\n [[Category:Politicians from Staunton, Virginia]] \\n [[Category:People from Glasgow, Kentucky]] \\n [[Category:American newspaper editors]] \\n [[Category:20th-century American newspaper publishers (people)]] \\n [[Category:American philanthropists]] \\n [[Category:State cabinet secretaries of Kentucky]] \\n [[Category:Kentucky Democrats]] \\n [[Category:Western Kentucky University people]] \\n [[Category:20th-century American politicians]] \\n [[Category:Journalists from Virginia]]\")]"
      ]
     },
     "execution_count": 25,
     "metadata": {},
     "output_type": "execute_result"
    }
   ],
   "source": [
    "handler._pages"
   ]
  },
  {
   "cell_type": "markdown",
   "metadata": {},
   "source": [
    "We have successfully extracted one page! Once we have the page text, we need to process it as well to find the information we want. We'll write that function next. First, let's see this process again, this time finding two different articles."
   ]
  },
  {
   "cell_type": "code",
   "execution_count": 26,
   "metadata": {},
   "outputs": [
    {
     "name": "stdout",
     "output_type": "stream",
     "text": [
      "['Zhou Wei Hui', 'Fred Jones (fictional character)', 'Sosnovski Raion']\n"
     ]
    }
   ],
   "source": [
    "# Object for handling xml\n",
    "handler = WikiXmlHandler()\n",
    "\n",
    "# Parsing object\n",
    "parser = xml.sax.make_parser()\n",
    "parser.setContentHandler(handler)\n",
    "\n",
    "for i, line in enumerate(subprocess.Popen(['bzcat'], \n",
    "                         stdin = open(data_path), \n",
    "                         stdout = subprocess.PIPE).stdout):\n",
    "    parser.feed(line)\n",
    "    \n",
    "    # Stop when 3 articles have been found\n",
    "    if len(handler._pages) > 2:\n",
    "        break\n",
    "        \n",
    "print([x[0] for x in handler._pages])"
   ]
  },
  {
   "cell_type": "markdown",
   "metadata": {},
   "source": [
    "The next step is to process an entire article. For this, we will turn to the `mwparserfromhell` library. [This library](https://github.com/earwig/mwparserfromhell) is custom made for parsing `MediaWiki` wikicode. This includes Wikipedia articles. [MediaWiki](https://www.mediawiki.org/wiki/MediaWiki) is used by Wikipedia and numerous other projects and provides a relatively standardized template for creating wiki pages. "
   ]
  },
  {
   "cell_type": "markdown",
   "metadata": {},
   "source": [
    "## Parsing Articles\n",
    "\n",
    "The best way to figure out how to parse an article is simply to do it! Let's work through the article for `Zhou Wei Hui`. All we need to do is pass the Wikipedia article text to the `mwparserfromhell`. "
   ]
  },
  {
   "cell_type": "code",
   "execution_count": 39,
   "metadata": {},
   "outputs": [],
   "source": [
    "# Object for handling xml\n",
    "handler = WikiXmlHandler()\n",
    "\n",
    "# Parsing object\n",
    "parser = xml.sax.make_parser()\n",
    "parser.setContentHandler(handler)\n",
    "\n",
    "for i, line in enumerate(subprocess.Popen(['bzcat'], \n",
    "                         stdin = open(data_path), \n",
    "                         stdout = subprocess.PIPE).stdout):\n",
    "    parser.feed(line)\n",
    "    \n",
    "    # Stop when 3 articles have been found\n",
    "    if len(handler._pages) > 50:\n",
    "        break"
   ]
  },
  {
   "cell_type": "code",
   "execution_count": 55,
   "metadata": {},
   "outputs": [
    {
     "name": "stdout",
     "output_type": "stream",
     "text": [
      "KENZ (FM)\n"
     ]
    }
   ],
   "source": [
    "import mwparserfromhell \n",
    "\n",
    "print(handler._pages[6][0])\n",
    "wiki = mwparserfromhell.parse(handler._pages[6][1])"
   ]
  },
  {
   "cell_type": "code",
   "execution_count": 57,
   "metadata": {},
   "outputs": [
    {
     "data": {
      "text/plain": [
       "'{{Infobox radio station \\n  | name = KENZ \\n  | image = File:KENZ_949_Logo_2017.png \\n  | city = [[Prov'"
      ]
     },
     "execution_count": 57,
     "metadata": {},
     "output_type": "execute_result"
    }
   ],
   "source": [
    "wiki[:100]"
   ]
  },
  {
   "cell_type": "markdown",
   "metadata": {},
   "source": [
    "This looks like a normal string, but in fact, it's a `mwparserfromhell.wikicode.Wikicode` object with many different methods for sorting through the content. For example, we can find all the internal links (those that go to other wikipedia pages) using `wiki.filter_wikilinks()`. This will give us the `title` of the Wikipedia article linked to as well as the `text` of the link. We'll extract just the titles. "
   ]
  },
  {
   "cell_type": "code",
   "execution_count": 64,
   "metadata": {},
   "outputs": [
    {
     "name": "stdout",
     "output_type": "stream",
     "text": [
      "There are 56 wikilinks.\n"
     ]
    },
    {
     "data": {
      "text/plain": [
       "['Provo, Utah', 'Wasatch Front', 'Megahertz', 'Contemporary hit radio', 'watt']"
      ]
     },
     "execution_count": 64,
     "metadata": {},
     "output_type": "execute_result"
    }
   ],
   "source": [
    "wikilinks = [x.title for x in wiki.filter_wikilinks()]\n",
    "print(f'There are {len(wikilinks)} wikilinks.')\n",
    "wikilinks[:5]"
   ]
  },
  {
   "cell_type": "markdown",
   "metadata": {},
   "source": [
    "We didn't get the discussion or the edits around the articles, so we won't be able to find this information. However, if you do decide to grab comments, edits, revisions, etc., you can use `mwparserfromhell` to extract all of these."
   ]
  },
  {
   "cell_type": "code",
   "execution_count": 67,
   "metadata": {},
   "outputs": [
    {
     "data": {
      "text/plain": [
       "[]"
      ]
     },
     "execution_count": 67,
     "metadata": {},
     "output_type": "execute_result"
    }
   ],
   "source": [
    "wiki.filter_arguments()"
   ]
  },
  {
   "cell_type": "code",
   "execution_count": 66,
   "metadata": {},
   "outputs": [
    {
     "data": {
      "text/plain": [
       "[]"
      ]
     },
     "execution_count": 66,
     "metadata": {},
     "output_type": "execute_result"
    }
   ],
   "source": [
    "wiki.filter_comments()"
   ]
  },
  {
   "cell_type": "markdown",
   "metadata": {},
   "source": [
    "To figure out everything you can do with `mwparserfromhell`, [read the docs](https://mwparserfromhell.readthedocs.io/en/latest/)."
   ]
  },
  {
   "cell_type": "markdown",
   "metadata": {},
   "source": [
    "We can find the external links (those that go outside of Wikipedia)."
   ]
  },
  {
   "cell_type": "code",
   "execution_count": 77,
   "metadata": {},
   "outputs": [
    {
     "name": "stdout",
     "output_type": "stream",
     "text": [
      "There are 13 external links.\n"
     ]
    },
    {
     "data": {
      "text/plain": [
       "[(None, 'http://www.powerslc.com'),\n",
       " ('powerslc.com', 'http://www.powerslc.com'),\n",
       " (None, 'http://www.fcc.gov/fcc-bin/fmq?call=KENZ'),\n",
       " (None, 'http://www1.arbitron.com/sip/displaySip.do?surveyID=SU08'),\n",
       " ('Salt Lake Broadcasting History',\n",
       "  'http://www.oldradio.com/archives/stations/slc-hist.htm')]"
      ]
     },
     "execution_count": 77,
     "metadata": {},
     "output_type": "execute_result"
    }
   ],
   "source": [
    "external_links = [(x.title, x.url) for x in wiki.filter_external_links()]\n",
    "print(f'There are {len(external_links)} external links.')\n",
    "external_links[:5]"
   ]
  },
  {
   "cell_type": "markdown",
   "metadata": {},
   "source": [
    "We can also search through the text for specific words."
   ]
  },
  {
   "cell_type": "code",
   "execution_count": 105,
   "metadata": {},
   "outputs": [
    {
     "data": {
      "text/plain": [
       "('[[Contemporary hit radio|Top 40 (CHR)]]',\n",
       " mwparserfromhell.nodes.wikilink.Wikilink)"
      ]
     },
     "execution_count": 105,
     "metadata": {},
     "output_type": "execute_result"
    }
   ],
   "source": [
    "contemporary = wiki.filter(matches = 'contemporary')\n",
    "contemporary[1], type(contemporary[1])"
   ]
  },
  {
   "cell_type": "code",
   "execution_count": 117,
   "metadata": {},
   "outputs": [
    {
     "data": {
      "text/plain": [
       "(\"{{Infobox radio station \\n  | name = KENZ \\n  | image = File:KENZ_949_Logo_2017.png \\n  | city = [[Provo, Utah]] \\n  | area = north/central Utah, most of [[Wasatch Front]]  \\n  | branding = ''Power 94.9'' \\n  | slogan = Utah's New Hit Music \\n  | frequency = 94.9 [[Megahertz|MHz]] \\n  | airdate = 1981 (as KLRZ) \\n  | format = [[Contemporary hit radio|Top 40 (CHR)]]  \\n  | erp = 48,000 [[watt]]s \\n  | haat = 853 meters (atop [[Lake Mountain (Utah)|Lake Mountain]]) \\n  | class = C \\n  | facility_id = 6545 \\n  | coordinates = {{coord|40|16|58|N|111|56|11|W|region:US_type:landmark}}  \\n  | callsign_meaning =  \\n  | former_callsigns =KLRZ (1981-1986) < br > KBNG (1986-1987) < br > KTOU (1987-1989) < br > KZHT (1989-2004) < br > KPHT (1/6/2004-1/16/2004) < br > KMXU (1/16/2004-1/27/2004) < br > KHTB (2004-2015) \\n  | affiliations = \\n  | owner = [[Cumulus Media]] \\n  | licensee = Radio License Holding CBC, LLC \\n  | sister_stations = [[KBEE]], [[KBER]], [[KHTB]], [[KRRF]], [[KKAT (AM)|KKAT]], [[KUBL-FM]] \\n  | webcast = {{listen live|http://www.powerslc.com}} \\n  | website = [http://www.powerslc.com powerslc.com] \\n }}\",\n",
       " mwparserfromhell.nodes.template.Template)"
      ]
     },
     "execution_count": 117,
     "metadata": {},
     "output_type": "execute_result"
    }
   ],
   "source": [
    "contemporary[0], type(contemporary[0])"
   ]
  },
  {
   "cell_type": "markdown",
   "metadata": {},
   "source": [
    "#### Templates\n",
    "\n",
    "The easiest way to filter articles to a category (at least that I've found) is through the use of templates. These are boxes of information that are standardized across a category. For example, the template of the `KENZ (FM)` radio station looks like this:\n",
    "\n",
    "![Radio Station Infobox](https://github.com/WillKoehrsen/wikipedia-data-science/blob/master/images/radio_template.PNG?raw=true)\n",
    "\n",
    "These are called `Infobox` and there are many of them, each one for a different category such as films or books. Let's take a look at the templates for this article."
   ]
  },
  {
   "cell_type": "code",
   "execution_count": 131,
   "metadata": {},
   "outputs": [
    {
     "name": "stdout",
     "output_type": "stream",
     "text": [
      "There are 14 templates.\n",
      "Infobox radio station \n",
      "  \n",
      "coord\n",
      "listen live\n",
      "cite web\n",
      "cite web\n",
      "cite web\n",
      "dead link\n",
      "cite news\n",
      "Reflist\n",
      "FM station data\n",
      "Salt Lake City Radio\n",
      "Contemporary Hit Radio Stations in Utah\n",
      "Cumulus Media\n",
      "Provo, Utah\n"
     ]
    }
   ],
   "source": [
    "templates = wiki.filter_templates()\n",
    "print(f'There are {len(templates)} templates.')\n",
    "for template in templates:\n",
    "    print(template.name)"
   ]
  },
  {
   "cell_type": "markdown",
   "metadata": {},
   "source": [
    "There are a number of different templates. In this case, the Infobox is name `Infobox radio station`. If we wanted to find all of the radio station articles, then the easiest way would be to search every article for this template. We can search for a specific template as below."
   ]
  },
  {
   "cell_type": "code",
   "execution_count": 133,
   "metadata": {},
   "outputs": [
    {
     "data": {
      "text/plain": [
       "\"{{Infobox radio station \\n  | name = KENZ \\n  | image = File:KENZ_949_Logo_2017.png \\n  | city = [[Provo, Utah]] \\n  | area = north/central Utah, most of [[Wasatch Front]]  \\n  | branding = ''Power 94.9'' \\n  | slogan = Utah's New Hit Music \\n  | frequency = 94.9 [[Megahertz|MHz]] \\n  | airdate = 1981 (as KLRZ) \\n  | format = [[Contemporary hit radio|Top 40 (CHR)]]  \\n  | erp = 48,000 [[watt]]s \\n  | haat = 853 meters (atop [[Lake Mountain (Utah)|Lake Mountain]]) \\n  | class = C \\n  | facility_id = 6545 \\n  | coordinates = {{coord|40|16|58|N|111|56|11|W|region:US_type:landmark}}  \\n  | callsign_meaning =  \\n  | former_callsigns =KLRZ (1981-1986) < br > KBNG (1986-1987) < br > KTOU (1987-1989) < br > KZHT (1989-2004) < br > KPHT (1/6/2004-1/16/2004) < br > KMXU (1/16/2004-1/27/2004) < br > KHTB (2004-2015) \\n  | affiliations = \\n  | owner = [[Cumulus Media]] \\n  | licensee = Radio License Holding CBC, LLC \\n  | sister_stations = [[KBEE]], [[KBER]], [[KHTB]], [[KRRF]], [[KKAT (AM)|KKAT]], [[KUBL-FM]] \\n  | webcast = {{listen live|http://www.powerslc.com}} \\n  | website = [http://www.powerslc.com powerslc.com] \\n }}\""
      ]
     },
     "execution_count": 133,
     "metadata": {},
     "output_type": "execute_result"
    }
   ],
   "source": [
    "infobox = wiki.filter_templates(matches = 'Infobox radio station')[0]\n",
    "infobox"
   ]
  },
  {
   "cell_type": "markdown",
   "metadata": {},
   "source": [
    "The attributes of the infobox can be accessed and put into a dictionary using the `name` and the `value`. To clean things up, we first strip the code and then strip whitespace and escape characters."
   ]
  },
  {
   "cell_type": "code",
   "execution_count": 138,
   "metadata": {},
   "outputs": [
    {
     "data": {
      "text/plain": [
       "{'name': 'KENZ',\n",
       " 'image': 'File:KENZ_949_Logo_2017.png',\n",
       " 'city': 'Provo, Utah',\n",
       " 'area': 'north/central Utah, most of Wasatch Front',\n",
       " 'branding': 'Power 94.9',\n",
       " 'slogan': \"Utah's New Hit Music\",\n",
       " 'frequency': '94.9 MHz',\n",
       " 'airdate': '1981 (as KLRZ)',\n",
       " 'format': 'Top 40 (CHR)',\n",
       " 'erp': '48,000 watts',\n",
       " 'haat': '853 meters (atop Lake Mountain)',\n",
       " 'class': 'C',\n",
       " 'facility_id': '6545',\n",
       " 'coordinates': '',\n",
       " 'callsign_meaning': '',\n",
       " 'former_callsigns': 'KLRZ (1981-1986) < br > KBNG (1986-1987) < br > KTOU (1987-1989) < br > KZHT (1989-2004) < br > KPHT (1/6/2004-1/16/2004) < br > KMXU (1/16/2004-1/27/2004) < br > KHTB (2004-2015)',\n",
       " 'affiliations': '',\n",
       " 'owner': 'Cumulus Media',\n",
       " 'licensee': 'Radio License Holding CBC, LLC',\n",
       " 'sister_stations': 'KBEE, KBER, KHTB, KRRF, KKAT, KUBL-FM',\n",
       " 'webcast': '',\n",
       " 'website': 'powerslc.com'}"
      ]
     },
     "execution_count": 138,
     "metadata": {},
     "output_type": "execute_result"
    }
   ],
   "source": [
    "information = {param.name.strip_code().strip(): param.value.strip_code().strip() for param in infobox.params}\n",
    "information"
   ]
  },
  {
   "cell_type": "markdown",
   "metadata": {},
   "source": [
    "Finally, we have a pretty clean look at the summary information for this article. In this project, we aren't going to be working with the text of the articles - that's an entirely separate undertaking - but we can use information such as links to build a book recommendation engine. \n",
    "\n",
    "### Searching for Books\n",
    "\n",
    "Now that we have an understanding of how to parse an article, we can start searching for what we want: all the books on Wikipedia! The books can be identified because they use an Infobox book template. We simply have to filter the article for the `Infobox book` template, and if it's present, store the information. If not, then we move to the next article. The function below is designed to find can return book articles. "
   ]
  },
  {
   "cell_type": "code",
   "execution_count": 171,
   "metadata": {},
   "outputs": [],
   "source": [
    "import re\n",
    "\n",
    "def process_article(title, text):\n",
    "    \"\"\"Process a wikipedia article looking for books\"\"\"\n",
    "    \n",
    "    # Create a parsing object\n",
    "    wikicode = mwparserfromhell.parse(text)\n",
    "    \n",
    "    # Search through templates for the book template\n",
    "    book = wikicode.filter_templates(matches = 'Infobox book')\n",
    "    \n",
    "    if len(book) == 1:\n",
    "        properties = {param.name.strip_code().strip(): param.value.strip_code().strip() \n",
    "                      for param in book[0].params\n",
    "                      if param.value.strip_code().strip()}\n",
    "        wikilinks = [x.title.strip_code().strip() for x in wikicode.filter_wikilinks()]\n",
    "        exlinks = [x.url.strip_code().strip() for x in wikicode.filter_external_links()]\n",
    "        return (title, properties, wikilinks, exlinks)"
   ]
  },
  {
   "cell_type": "code",
   "execution_count": 172,
   "metadata": {},
   "outputs": [],
   "source": [
    "process_article('KENZ (FM)', wiki)"
   ]
  },
  {
   "cell_type": "markdown",
   "metadata": {},
   "source": [
    "No such luck with this article. We'll have to search through the entire compressed XML file to find some books. To pass the text from each article, we slightly have to modify the `Handler` class. This time, in the `endElement` function, if the article ends (the tags is `page`) then we send the title and the contents (`text`) to the `process_article` function. \n",
    "\n",
    "This function will return either nothing if it doesn't find a book, or the book properties, Wikilinks, and external links if it does find a book. These will be added as a list to the `handler`. "
   ]
  },
  {
   "cell_type": "code",
   "execution_count": 173,
   "metadata": {},
   "outputs": [],
   "source": [
    "class WikiXmlHandler(xml.sax.handler.ContentHandler):\n",
    "    \"\"\"Parse through XML data using SAX\"\"\"\n",
    "    def __init__(self):\n",
    "        xml.sax.handler.ContentHandler.__init__(self)\n",
    "        self._buffer = None\n",
    "        self._values = {}\n",
    "        self._current_tag = None\n",
    "        self._books = []\n",
    "\n",
    "    def characters(self, content):\n",
    "        \"\"\"Characters between opening and closing tags\"\"\"\n",
    "        if self._current_tag:\n",
    "            self._buffer.append(content)\n",
    "\n",
    "    def startElement(self, name, attrs):\n",
    "        \"\"\"Opening tag of element\"\"\"\n",
    "        if name in ('title', 'text'):\n",
    "            self._current_tag = name\n",
    "            self._buffer = []\n",
    "\n",
    "    def endElement(self, name):\n",
    "        \"\"\"Closing tag of element\"\"\"\n",
    "        if name == self._current_tag:\n",
    "            self._values[name] = ' '.join(self._buffer)\n",
    "\n",
    "        if name == 'page':\n",
    "            # Search through the page to see if a book\n",
    "            book = process_article(**self._values)\n",
    "            if book:\n",
    "                self._books.append(book)"
   ]
  },
  {
   "cell_type": "markdown",
   "metadata": {},
   "source": [
    "The code below stops when we've found 2 books."
   ]
  },
  {
   "cell_type": "code",
   "execution_count": 174,
   "metadata": {},
   "outputs": [],
   "source": [
    "# Object for handling xml\n",
    "handler = WikiXmlHandler()\n",
    "\n",
    "# Parsing object\n",
    "parser = xml.sax.make_parser()\n",
    "parser.setContentHandler(handler)\n",
    "\n",
    "for i, line in enumerate(subprocess.Popen(['bzcat'], \n",
    "                         stdin = open(data_path), \n",
    "                         stdout = subprocess.PIPE).stdout):\n",
    "    parser.feed(line)\n",
    "    \n",
    "    # Stop when 3 articles have been found\n",
    "    if len(handler._books) > 1:\n",
    "        break"
   ]
  },
  {
   "cell_type": "markdown",
   "metadata": {},
   "source": [
    "Let's see what we've got! "
   ]
  },
  {
   "cell_type": "code",
   "execution_count": 175,
   "metadata": {},
   "outputs": [
    {
     "data": {
      "text/plain": [
       "('The Cambridge Dictionary of Philosophy',\n",
       " {'1': '< !-- See Wikipedia:WikiProject_Books -- >',\n",
       "  'name': 'The Cambridge Dictionary of Philosophy',\n",
       "  'image': 'File:The Cambridge Dictionary of Philosophy (first edition).jpg',\n",
       "  'caption': 'Cover of the first edition',\n",
       "  'editor': 'Robert Audi',\n",
       "  'country': 'United Kingdom',\n",
       "  'language': 'English',\n",
       "  'subject': 'Philosophy',\n",
       "  'publisher': 'Cambridge University Press',\n",
       "  'pub_date': '1995',\n",
       "  'media_type': 'Print (Hardcover and Paperback)',\n",
       "  'pages': '1001 (second edition)',\n",
       "  'isbn': '0-521-63722-8',\n",
       "  'isbn_note': '(second edition)'},\n",
       " ['Robert Audi',\n",
       "  'Philosophy',\n",
       "  'Cambridge University Press',\n",
       "  'Hardcover',\n",
       "  'Paperback',\n",
       "  'dictionary',\n",
       "  'philosophy',\n",
       "  'Cambridge University Press',\n",
       "  'Robert Audi',\n",
       "  'Category:1995 books',\n",
       "  'Category:Cambridge University Press books',\n",
       "  'Category:Dictionaries of philosophy',\n",
       "  'Category:Encyclopedias of philosophy',\n",
       "  'Category:English-language books'],\n",
       " ['http://www.cambridge.org/uk/catalogue/catalogue.asp?isbn=9780521637220'])"
      ]
     },
     "execution_count": 175,
     "metadata": {},
     "output_type": "execute_result"
    }
   ],
   "source": [
    "handler._books[0]"
   ]
  },
  {
   "cell_type": "markdown",
   "metadata": {},
   "source": [
    "For each book, we have the title, the information contained in the `Infobox`, the internal Wikilinks, and the external links. Using just this information, we'll be able to build a fairly robust book recommendation system! "
   ]
  },
  {
   "cell_type": "markdown",
   "metadata": {},
   "source": [
    "Let's see how long it would take to search through just one partition."
   ]
  },
  {
   "cell_type": "code",
   "execution_count": null,
   "metadata": {},
   "outputs": [],
   "source": [
    "from timeit import default_timer as timer\n",
    "\n",
    "start = timer()\n",
    "# Object for handling xml\n",
    "handler = WikiXmlHandler()\n",
    "\n",
    "# Parsing object\n",
    "parser = xml.sax.make_parser()\n",
    "parser.setContentHandler(handler)\n",
    "\n",
    "for i, line in enumerate(subprocess.Popen(['bzcat'], \n",
    "                         stdin = open(data_path), \n",
    "                         stdout = subprocess.PIPE).stdout):\n",
    "    parser.feed(line)\n",
    "    \n",
    "end = timer()\n",
    "books = handler._books\n",
    "\n",
    "print(f'Found {len(books)} in {round(end - start)} seconds.')"
   ]
  },
  {
   "cell_type": "markdown",
   "metadata": {},
   "source": [
    "## Searching Through all Files\n",
    "\n",
    "The next step is to search through all of the files. We downloaded them in pieces precisely so we could parallelize this operation and speed things up! "
   ]
  },
  {
   "cell_type": "markdown",
   "metadata": {},
   "source": [
    "We first need to write a function that takes in a file and returns a list of the book articles. We already have all the parts defined so we can put them together."
   ]
  },
  {
   "cell_type": "code",
   "execution_count": null,
   "metadata": {},
   "outputs": [],
   "source": [
    "def find_books(data_path):\n",
    "    # Object for handling xml\n",
    "    handler = WikiXmlHandler()\n",
    "\n",
    "    # Parsing object\n",
    "    parser = xml.sax.make_parser()\n",
    "    parser.setContentHandler(handler)\n",
    "\n",
    "    for i, line in enumerate(subprocess.Popen(['bzcat'], \n",
    "                             stdin = open(data_path), \n",
    "                             stdout = subprocess.PIPE).stdout):\n",
    "        parser.feed(line)\n",
    "        \n",
    "    return handler._books"
   ]
  },
  {
   "cell_type": "code",
   "execution_count": null,
   "metadata": {},
   "outputs": [],
   "source": [
    "partitions = [keras_home + file for file in os.listdir(keras_home) if 'xml-p' in file]\n",
    "len(partitions), partitions[-1]"
   ]
  },
  {
   "cell_type": "code",
   "execution_count": null,
   "metadata": {},
   "outputs": [],
   "source": [
    "from multiprocessing.dummy import Pool as ThreadPool\n",
    "\n",
    "start = timer()\n",
    "pool = ThreadPool(len(partitions))\n",
    "results = pool.map(find_books, partitions)\n",
    "pool.close()\n",
    "pool.join()\n",
    "\n",
    "end = timer()"
   ]
  },
  {
   "cell_type": "code",
   "execution_count": null,
   "metadata": {},
   "outputs": [],
   "source": [
    "from itertools import chain\n",
    "\n",
    "book_list = list(chain(*results))\n",
    "print(f'Found {len(book_list)} books in {round(end - start)} seconds.')"
   ]
  },
  {
   "cell_type": "code",
   "execution_count": null,
   "metadata": {},
   "outputs": [],
   "source": [
    "with open('found_books.ndjson', 'wt') as fout:\n",
    "    for book in book_list:\n",
    "         fout.write(json.dumps(book) + '\\n')"
   ]
  },
  {
   "cell_type": "markdown",
   "metadata": {},
   "source": [
    "# Conclusions\n",
    "\n",
    "In this notebook, we saw how to download the most recent version of every article on English language Wikipedia. Not only are we able to download all of the information, but we also saw some tools for processing this information to extract the data that we need. Wikipedia is an incredible resource, not only for doing your school projects, but also for exploring techniques in data science. In future notebooks, we'll look at how to build a book recommendation engine based on the data we've collected here. Gathering the data is one thing, but eventually, we want to be able to accomplish useful tasks with this data! "
   ]
  },
  {
   "cell_type": "markdown",
   "metadata": {},
   "source": [
    "We can use the  Effectively what this code is doing is decompressing the file one line at a time and sending the line through the `parser`. This gets around the need to load the entire file into memory at once since it is probably too large in its uncompressed state. \n",
    "\n",
    "The first time, we set the code to break if the handler encouters any books so we can look at the output. "
   ]
  },
  {
   "cell_type": "code",
   "execution_count": null,
   "metadata": {},
   "outputs": [],
   "source": [
    "for i, line in enumerate(subprocess.Popen(['bzcat'], \n",
    "                                         stdin = open(data_path), stdout = subprocess.PIPE).stdout):\n",
    "    x = line\n",
    "    try:\n",
    "        parser.feed(line)\n",
    "    except StopIteration:\n",
    "        break\n",
    "    if handler._books:\n",
    "        break"
   ]
  },
  {
   "cell_type": "markdown",
   "metadata": {},
   "source": [
    "The first entry is simply the title."
   ]
  },
  {
   "cell_type": "code",
   "execution_count": null,
   "metadata": {},
   "outputs": [],
   "source": [
    "handler._books[0][0]"
   ]
  },
  {
   "cell_type": "markdown",
   "metadata": {},
   "source": [
    "The second is all the parameters that are in the `infobox book` template on the wikipedia page."
   ]
  },
  {
   "cell_type": "code",
   "execution_count": null,
   "metadata": {},
   "outputs": [],
   "source": [
    "handler._books[0][1]"
   ]
  },
  {
   "cell_type": "markdown",
   "metadata": {},
   "source": [
    "The third entry is all of the Wikipedia links that occur on the page. These are links that go to __other wikipedia pages__ as opposed to external sources."
   ]
  },
  {
   "cell_type": "code",
   "execution_count": null,
   "metadata": {},
   "outputs": [],
   "source": [
    "handler._books[0][2]"
   ]
  },
  {
   "cell_type": "markdown",
   "metadata": {},
   "source": [
    "We'll gather this information for every article on Wikipedia that has an `infobox book` template on the page (this should be around 40,000). While this won't capture every book, it will give us a large selection to work with for making recommendations! "
   ]
  },
  {
   "cell_type": "code",
   "execution_count": null,
   "metadata": {},
   "outputs": [],
   "source": [
    "processed = process_article(**handler._values, return_wikicode=True)\n",
    "processed.filter_templates()[1]"
   ]
  },
  {
   "cell_type": "markdown",
   "metadata": {},
   "source": [
    "### Retrieve Every Book on Wikipedia"
   ]
  },
  {
   "cell_type": "code",
   "execution_count": null,
   "metadata": {},
   "outputs": [],
   "source": [
    "from timeit import default_timer as timer\n",
    "\n",
    "# Object for handling xml\n",
    "handler = WikiXmlHandler()\n",
    "\n",
    "# Parsing object\n",
    "parser = xml.sax.make_parser()\n",
    "parser.setContentHandler(handler)\n",
    "\n",
    "start = timer()\n",
    "recorded_count = 0\n",
    "\n",
    "for i, line in enumerate(subprocess.Popen(['bzcat'], \n",
    "                                         stdin = open(data_path), stdout = subprocess.PIPE).stdout):\n",
    "    # Process the line (entry)\n",
    "    try:\n",
    "        parser.feed(line)\n",
    "    except StopIteration:\n",
    "        break\n",
    "    \n",
    "    # Print progress information\n",
    "    n_books = len(handler._books)\n",
    "    if (n_books % 1000 == 0) and (n_books != recorded_count):\n",
    "        print(f'{n_books} books found. {round(timer() - start)} seconds elapsed.', end = '\\r')\n",
    "        # Make sure to only report found books once\n",
    "        recorded_count = n_books\n",
    "        \n",
    "        with open(f'generated/{n_books}-books.ndjson', 'wt') as fout:\n",
    "            for book in handler._books:\n",
    "                 fout.write(json.dumps(book) + '\\n')"
   ]
  },
  {
   "cell_type": "code",
   "execution_count": null,
   "metadata": {},
   "outputs": [],
   "source": [
    "with open('generated/all_books.ndjson', 'wt') as fout:\n",
    "    for book in handler._books:\n",
    "         fout.write(json.dumps(book) + '\\n')"
   ]
  },
  {
   "cell_type": "code",
   "execution_count": null,
   "metadata": {},
   "outputs": [],
   "source": []
  }
 ],
 "metadata": {
  "kernelspec": {
   "display_name": "Environment (conda_tensorflow_p36)",
   "language": "python",
   "name": "conda_tensorflow_p36"
  },
  "language_info": {
   "codemirror_mode": {
    "name": "ipython",
    "version": 3
   },
   "file_extension": ".py",
   "mimetype": "text/x-python",
   "name": "python",
   "nbconvert_exporter": "python",
   "pygments_lexer": "ipython3",
   "version": "3.6.6"
  }
 },
 "nbformat": 4,
 "nbformat_minor": 2
}
