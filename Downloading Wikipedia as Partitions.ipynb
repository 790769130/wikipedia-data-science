{
 "cells": [
  {
   "cell_type": "code",
   "execution_count": 5,
   "metadata": {},
   "outputs": [],
   "source": [
    "import requests\n",
    "from bs4 import BeautifulSoup\n",
    "import os\n",
    "\n",
    "base_url = 'https://dumps.wikimedia.org/enwiki/'\n",
    "index = requests.get(base_url).text\n",
    "soup_index = BeautifulSoup(index, 'html.parser')\n",
    "\n",
    "# Find the links that are dates of dumps\n",
    "dumps = [a['href'] for a in soup_index.find_all('a') if \n",
    "         a.text == '20180901/']\n",
    "\n",
    "dumps_url = base_url + dumps[0]\n",
    "\n",
    "# Retrieve the html\n",
    "dump_html = requests.get(dumps_url).text\n",
    "\n",
    "# Convert to a soup\n",
    "soup_dump = BeautifulSoup(dump_html, 'html.parser')\n",
    "\n",
    "files = []\n",
    "for file in soup_dump.find_all('li', {'class': 'file'}):\n",
    "    text = file.text\n",
    "    if 'pages-articles' in text:\n",
    "        files.append((text.split()[0], text.split()[1:]))\n",
    "        \n",
    "files_to_download = [file[0] for file in files if '.xml-p' in file[0]]"
   ]
  },
  {
   "cell_type": "code",
   "execution_count": 6,
   "metadata": {},
   "outputs": [],
   "source": [
    "from keras.utils import get_file"
   ]
  },
  {
   "cell_type": "code",
   "execution_count": null,
   "metadata": {},
   "outputs": [
    {
     "name": "stdout",
     "output_type": "stream",
     "text": [
      "Downloading data from https://dumps.wikimedia.org/enwiki/20180901/enwiki-20180901-pages-articles1.xml-p10p30302.bz2\n",
      "173301760/173297433 [==============================] - 83s 0us/step\n",
      "Downloading data from https://dumps.wikimedia.org/enwiki/20180901/enwiki-20180901-pages-articles2.xml-p30304p88444.bz2\n",
      "205299712/205296679 [==============================] - 99s 0us/step\n",
      "Downloading data from https://dumps.wikimedia.org/enwiki/20180901/enwiki-20180901-pages-articles3.xml-p88445p200507.bz2\n",
      "263929856/263926215 [==============================] - 128s 0us/step\n",
      "Downloading data from https://dumps.wikimedia.org/enwiki/20180901/enwiki-20180901-pages-articles4.xml-p200511p352689.bz2\n",
      "269828096/269819994 [==============================] - 130s 0us/step\n",
      "Downloading data from https://dumps.wikimedia.org/enwiki/20180901/enwiki-20180901-pages-articles5.xml-p352690p565312.bz2\n",
      "295403520/295396403 [==============================] - 143s 0us/step\n",
      "Downloading data from https://dumps.wikimedia.org/enwiki/20180901/enwiki-20180901-pages-articles6.xml-p565314p892912.bz2\n",
      "318644224/318642489 [==============================] - 153s 0us/step\n",
      "Downloading data from https://dumps.wikimedia.org/enwiki/20180901/enwiki-20180901-pages-articles7.xml-p892914p1268691.bz2\n",
      "326574080/326572014 [==============================] - 158s 0us/step\n",
      "Downloading data from https://dumps.wikimedia.org/enwiki/20180901/enwiki-20180901-pages-articles8.xml-p1268693p1791079.bz2\n",
      "357326848/357318792 [==============================] - 173s 0us/step\n",
      "Downloading data from https://dumps.wikimedia.org/enwiki/20180901/enwiki-20180901-pages-articles9.xml-p1791081p2336422.bz2\n",
      "346554368/346550202 [==============================] - 166s 0us/step\n",
      "Downloading data from https://dumps.wikimedia.org/enwiki/20180901/enwiki-20180901-pages-articles10.xml-p2336425p3046511.bz2\n",
      "362962944/362956112 [==============================] - 175s 0us/step\n",
      "Downloading data from https://dumps.wikimedia.org/enwiki/20180901/enwiki-20180901-pages-articles11.xml-p3046517p3926861.bz2\n",
      "383746048/383739076 [==============================] - 188s 0us/step\n",
      "Downloading data from https://dumps.wikimedia.org/enwiki/20180901/enwiki-20180901-pages-articles12.xml-p3926864p5040435.bz2\n",
      "396771328/396765417 [==============================] - 196s 0us/step\n",
      "Downloading data from https://dumps.wikimedia.org/enwiki/20180901/enwiki-20180901-pages-articles13.xml-p5040438p6197593.bz2\n",
      "390840320/390834855 [==============================] - 193s 0us/step\n",
      "Downloading data from https://dumps.wikimedia.org/enwiki/20180901/enwiki-20180901-pages-articles14.xml-p6197599p7697599.bz2\n",
      "397139968/397133836 [==============================] - 191s 0us/step\n",
      "Downloading data from https://dumps.wikimedia.org/enwiki/20180901/enwiki-20180901-pages-articles14.xml-p7697599p7744799.bz2\n",
      "11739136/11733713 [==============================] - 5s 0us/step\n",
      "Downloading data from https://dumps.wikimedia.org/enwiki/20180901/enwiki-20180901-pages-articles15.xml-p7744803p9244803.bz2\n",
      "374267904/374264421 [==============================] - 185s 0us/step\n",
      "Downloading data from https://dumps.wikimedia.org/enwiki/20180901/enwiki-20180901-pages-articles15.xml-p9244803p9518046.bz2\n",
      "62021632/62021166 [==============================] - 29s 0us/step\n",
      "Downloading data from https://dumps.wikimedia.org/enwiki/20180901/enwiki-20180901-pages-articles16.xml-p9518059p11018059.bz2\n",
      "310018048/310012600 [==============================] - 150s 0us/step\n",
      "Downloading data from https://dumps.wikimedia.org/enwiki/20180901/enwiki-20180901-pages-articles16.xml-p11018059p11539266.bz2\n",
      "118915072/118908795 [==============================] - 59s 0us/step\n",
      "Downloading data from https://dumps.wikimedia.org/enwiki/20180901/enwiki-20180901-pages-articles17.xml-p11539268p13039268.bz2\n",
      "369377280/369371949 [==============================] - 179s 0us/step\n",
      "Downloading data from https://dumps.wikimedia.org/enwiki/20180901/enwiki-20180901-pages-articles17.xml-p13039268p13693066.bz2\n",
      "152780800/152780579 [==============================] - 74s 0us/step\n",
      "Downloading data from https://dumps.wikimedia.org/enwiki/20180901/enwiki-20180901-pages-articles18.xml-p13693075p15193075.bz2\n",
      "352206848/352199415 [==============================] - 171s 0us/step\n",
      "Downloading data from https://dumps.wikimedia.org/enwiki/20180901/enwiki-20180901-pages-articles18.xml-p15193075p16120541.bz2\n",
      "195510272/195502671 [==============================] - 94s 0us/step\n",
      "Downloading data from https://dumps.wikimedia.org/enwiki/20180901/enwiki-20180901-pages-articles19.xml-p16120548p17620548.bz2\n",
      "292790272/292787883 [==============================] - 140s 0us/step\n",
      "Downloading data from https://dumps.wikimedia.org/enwiki/20180901/enwiki-20180901-pages-articles19.xml-p17620548p18754723.bz2\n",
      "243793920/243793269 [==============================] - 118s 0us/step\n",
      "Downloading data from https://dumps.wikimedia.org/enwiki/20180901/enwiki-20180901-pages-articles20.xml-p18754736p20254736.bz2\n",
      "318742528/318741293 [==============================] - 155s 0us/step\n",
      "Downloading data from https://dumps.wikimedia.org/enwiki/20180901/enwiki-20180901-pages-articles20.xml-p20254736p21222156.bz2\n",
      "205840384/205837652 [==============================] - 100s 0us/step\n",
      "Downloading data from https://dumps.wikimedia.org/enwiki/20180901/enwiki-20180901-pages-articles21.xml-p21222161p22722161.bz2\n",
      "332414976/332412865 [==============================] - 167s 1us/step\n",
      "Downloading data from https://dumps.wikimedia.org/enwiki/20180901/enwiki-20180901-pages-articles21.xml-p22722161p23927980.bz2\n",
      "293986304/293978762 [==============================] - 148s 1us/step\n",
      "Downloading data from https://dumps.wikimedia.org/enwiki/20180901/enwiki-20180901-pages-articles22.xml-p23927984p25427984.bz2\n",
      "355729408/355729301 [==============================] - 178s 0us/step\n",
      "Downloading data from https://dumps.wikimedia.org/enwiki/20180901/enwiki-20180901-pages-articles22.xml-p25427984p26823658.bz2\n",
      "308264960/308257431 [==============================] - 150s 0us/step\n",
      "Downloading data from https://dumps.wikimedia.org/enwiki/20180901/enwiki-20180901-pages-articles23.xml-p26823661p28323661.bz2\n",
      "126582784/333612732 [==========>...................] - ETA: 1:38"
     ]
    }
   ],
   "source": [
    "data_paths = []\n",
    "\n",
    "for file in files_to_download:\n",
    "    data_paths.append(get_file(file, dumps_url + file))"
   ]
  },
  {
   "cell_type": "code",
   "execution_count": null,
   "metadata": {},
   "outputs": [],
   "source": []
  }
 ],
 "metadata": {
  "kernelspec": {
   "display_name": "Environment (conda_tensorflow_p36)",
   "language": "python",
   "name": "conda_tensorflow_p36"
  },
  "language_info": {
   "codemirror_mode": {
    "name": "ipython",
    "version": 3
   },
   "file_extension": ".py",
   "mimetype": "text/x-python",
   "name": "python",
   "nbconvert_exporter": "python",
   "pygments_lexer": "ipython3",
   "version": "3.6.6"
  }
 },
 "nbformat": 4,
 "nbformat_minor": 2
}
