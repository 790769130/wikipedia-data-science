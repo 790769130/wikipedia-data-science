{
 "cells": [
  {
   "cell_type": "markdown",
   "metadata": {},
   "source": [
    "# Introduction: Exploring Wikipedia Book Data\n",
    "\n",
    "After gathering all of the data about books on Wikipedia, it's time to see what we can find from it! In this notebook we'll explore the data in preparation for creating a recommendation engine based on embeddings."
   ]
  },
  {
   "cell_type": "code",
   "execution_count": 1,
   "metadata": {},
   "outputs": [],
   "source": [
    "import pandas as pd\n",
    "import numpy as np"
   ]
  },
  {
   "cell_type": "code",
   "execution_count": 2,
   "metadata": {},
   "outputs": [],
   "source": [
    "data_path = '/data/wiki/enwiki-20180901-pages-articles.xml.bz2'"
   ]
  },
  {
   "cell_type": "code",
   "execution_count": 4,
   "metadata": {},
   "outputs": [],
   "source": [
    "import bz2\n",
    "lines = []\n",
    "for i, line in enumerate(bz2.BZ2File(data_path, 'r')):\n",
    "    lines.append(line)\n",
    "    if i > 5e5:\n",
    "        break"
   ]
  },
  {
   "cell_type": "code",
   "execution_count": 14,
   "metadata": {},
   "outputs": [
    {
     "name": "stdout",
     "output_type": "stream",
     "text": [
      "b'    <title>AccessibleComputing</title>\\n'\n",
      "b'    <redirect title=\"Computer accessibility\" />\\n'\n"
     ]
    }
   ],
   "source": [
    "for l in lines[:50]:\n",
    "    if 'title' in l.decode('utf-8'):\n",
    "        print(l)"
   ]
  },
  {
   "cell_type": "code",
   "execution_count": null,
   "metadata": {},
   "outputs": [],
   "source": []
  }
 ],
 "metadata": {
  "kernelspec": {
   "display_name": "Python 3",
   "language": "python",
   "name": "python3"
  },
  "language_info": {
   "codemirror_mode": {
    "name": "ipython",
    "version": 3
   },
   "file_extension": ".py",
   "mimetype": "text/x-python",
   "name": "python",
   "nbconvert_exporter": "python",
   "pygments_lexer": "ipython3",
   "version": "3.6.4"
  }
 },
 "nbformat": 4,
 "nbformat_minor": 2
}
