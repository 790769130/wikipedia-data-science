{
 "cells": [
  {
   "cell_type": "code",
   "execution_count": 1,
   "metadata": {},
   "outputs": [],
   "source": [
    "import pandas as pd\n",
    "from bs4 import BeautifulSoup\n",
    "import requests"
   ]
  },
  {
   "cell_type": "code",
   "execution_count": 2,
   "metadata": {},
   "outputs": [
    {
     "data": {
      "text/html": [
       "<div>\n",
       "<style scoped>\n",
       "    .dataframe tbody tr th:only-of-type {\n",
       "        vertical-align: middle;\n",
       "    }\n",
       "\n",
       "    .dataframe tbody tr th {\n",
       "        vertical-align: top;\n",
       "    }\n",
       "\n",
       "    .dataframe thead th {\n",
       "        text-align: right;\n",
       "    }\n",
       "</style>\n",
       "<table border=\"1\" class=\"dataframe\">\n",
       "  <thead>\n",
       "    <tr style=\"text-align: right;\">\n",
       "      <th></th>\n",
       "      <th>id</th>\n",
       "      <th>title</th>\n",
       "      <th>assignee</th>\n",
       "      <th>inventor/author</th>\n",
       "      <th>priority date</th>\n",
       "      <th>filing/creation date</th>\n",
       "      <th>publication date</th>\n",
       "      <th>grant date</th>\n",
       "      <th>result link</th>\n",
       "      <th>representative figure link</th>\n",
       "    </tr>\n",
       "  </thead>\n",
       "  <tbody>\n",
       "    <tr>\n",
       "      <th>0</th>\n",
       "      <td>US-8271025-B2</td>\n",
       "      <td>Device network technology selection and displa...</td>\n",
       "      <td>At&amp;T Mobility Ii Llc</td>\n",
       "      <td>Arthur Brisebois, Sharat Chander, Yung Choi-Gr...</td>\n",
       "      <td>10/20/2008</td>\n",
       "      <td>10/20/2008</td>\n",
       "      <td>9/18/2012</td>\n",
       "      <td>9/18/2012</td>\n",
       "      <td>https://patents.google.com/patent/US8271025B2/en</td>\n",
       "      <td>https://patentimages.storage.googleapis.com/68...</td>\n",
       "    </tr>\n",
       "    <tr>\n",
       "      <th>1</th>\n",
       "      <td>US-6311175-B1</td>\n",
       "      <td>System and method for generating performance m...</td>\n",
       "      <td>Perot Systems Corp.</td>\n",
       "      <td>Pieter Willem Adriaans, Arno Jan Knobbe, Marc ...</td>\n",
       "      <td>3/6/1998</td>\n",
       "      <td>3/6/1998</td>\n",
       "      <td>10/30/2001</td>\n",
       "      <td>10/30/2001</td>\n",
       "      <td>https://patents.google.com/patent/US6311175B1/en</td>\n",
       "      <td>https://patentimages.storage.googleapis.com/66...</td>\n",
       "    </tr>\n",
       "    <tr>\n",
       "      <th>2</th>\n",
       "      <td>US-5728098-A</td>\n",
       "      <td>Multi-angle bone screw assembly using shape-me...</td>\n",
       "      <td>Sdgi Holdings, Inc.</td>\n",
       "      <td>Michael C. Sherman, Troy Drewry</td>\n",
       "      <td>11/7/1996</td>\n",
       "      <td>11/7/1996</td>\n",
       "      <td>3/17/1998</td>\n",
       "      <td>3/17/1998</td>\n",
       "      <td>https://patents.google.com/patent/US5728098A/en</td>\n",
       "      <td>https://patentimages.storage.googleapis.com/pa...</td>\n",
       "    </tr>\n",
       "    <tr>\n",
       "      <th>3</th>\n",
       "      <td>US-6675149-B1</td>\n",
       "      <td>Information technology project assessment meth...</td>\n",
       "      <td>International Business Machines Corporation</td>\n",
       "      <td>Michael Ruffin, Joseph L. Temple, III, Carlos ...</td>\n",
       "      <td>11/2/1998</td>\n",
       "      <td>8/30/1999</td>\n",
       "      <td>1/6/2004</td>\n",
       "      <td>1/6/2004</td>\n",
       "      <td>https://patents.google.com/patent/US6675149B1/en</td>\n",
       "      <td>https://patentimages.storage.googleapis.com/bc...</td>\n",
       "    </tr>\n",
       "    <tr>\n",
       "      <th>4</th>\n",
       "      <td>US-6553263-B1</td>\n",
       "      <td>Implantable pulse generators using rechargeabl...</td>\n",
       "      <td>Advanced Bionics Corporation, Quallion, Llc</td>\n",
       "      <td>Paul M. Meadows, Carla M. Mann, Hisashi Tsukam...</td>\n",
       "      <td>7/30/1999</td>\n",
       "      <td>7/28/2000</td>\n",
       "      <td>4/22/2003</td>\n",
       "      <td>4/22/2003</td>\n",
       "      <td>https://patents.google.com/patent/US6553263B1/en</td>\n",
       "      <td>https://patentimages.storage.googleapis.com/e5...</td>\n",
       "    </tr>\n",
       "  </tbody>\n",
       "</table>\n",
       "</div>"
      ],
      "text/plain": [
       "              id                                              title  \\\n",
       "0  US-8271025-B2  Device network technology selection and displa...   \n",
       "1  US-6311175-B1  System and method for generating performance m...   \n",
       "2   US-5728098-A  Multi-angle bone screw assembly using shape-me...   \n",
       "3  US-6675149-B1  Information technology project assessment meth...   \n",
       "4  US-6553263-B1  Implantable pulse generators using rechargeabl...   \n",
       "\n",
       "                                      assignee  \\\n",
       "0                         At&T Mobility Ii Llc   \n",
       "1                          Perot Systems Corp.   \n",
       "2                          Sdgi Holdings, Inc.   \n",
       "3  International Business Machines Corporation   \n",
       "4  Advanced Bionics Corporation, Quallion, Llc   \n",
       "\n",
       "                                     inventor/author priority date  \\\n",
       "0  Arthur Brisebois, Sharat Chander, Yung Choi-Gr...    10/20/2008   \n",
       "1  Pieter Willem Adriaans, Arno Jan Knobbe, Marc ...      3/6/1998   \n",
       "2                    Michael C. Sherman, Troy Drewry     11/7/1996   \n",
       "3  Michael Ruffin, Joseph L. Temple, III, Carlos ...     11/2/1998   \n",
       "4  Paul M. Meadows, Carla M. Mann, Hisashi Tsukam...     7/30/1999   \n",
       "\n",
       "  filing/creation date publication date  grant date  \\\n",
       "0           10/20/2008        9/18/2012   9/18/2012   \n",
       "1             3/6/1998       10/30/2001  10/30/2001   \n",
       "2            11/7/1996        3/17/1998   3/17/1998   \n",
       "3            8/30/1999         1/6/2004    1/6/2004   \n",
       "4            7/28/2000        4/22/2003   4/22/2003   \n",
       "\n",
       "                                        result link  \\\n",
       "0  https://patents.google.com/patent/US8271025B2/en   \n",
       "1  https://patents.google.com/patent/US6311175B1/en   \n",
       "2   https://patents.google.com/patent/US5728098A/en   \n",
       "3  https://patents.google.com/patent/US6675149B1/en   \n",
       "4  https://patents.google.com/patent/US6553263B1/en   \n",
       "\n",
       "                          representative figure link  \n",
       "0  https://patentimages.storage.googleapis.com/68...  \n",
       "1  https://patentimages.storage.googleapis.com/66...  \n",
       "2  https://patentimages.storage.googleapis.com/pa...  \n",
       "3  https://patentimages.storage.googleapis.com/bc...  \n",
       "4  https://patentimages.storage.googleapis.com/e5...  "
      ]
     },
     "execution_count": 2,
     "metadata": {},
     "output_type": "execute_result"
    }
   ],
   "source": [
    "search_results = pd.read_csv('../data/gp-search-20181012-181513.csv')\n",
    "search_results.head()"
   ]
  },
  {
   "cell_type": "code",
   "execution_count": 3,
   "metadata": {},
   "outputs": [
    {
     "data": {
      "text/plain": [
       "'US8271025B2 - Device network technology selection and display in multi-technology wireless environments \\n        - Google Patents'"
      ]
     },
     "execution_count": 3,
     "metadata": {},
     "output_type": "execute_result"
    }
   ],
   "source": [
    "url = search_results.loc[0, 'result link']\n",
    "r = requests.get(url)\n",
    "soup = BeautifulSoup(r.content)\n",
    "soup.find('h1').text"
   ]
  },
  {
   "cell_type": "code",
   "execution_count": 4,
   "metadata": {},
   "outputs": [
    {
     "data": {
      "text/plain": [
       "'System(s) and method(s) are provided to manage utilization of radio network technology and display thereof when multiple services and radio network technologies are available to a multi-technology mobile device. Management relies at least in part on a subscriber profile that comprises a network selection profile constructed through market policy, subscriber policy, and application policy for radio technology utilization. Network preference(s) profile is generated on per subscriber, or per subscriber type, basis and is conveyed to a subscriber station over the air. Initial subscriber profile can be delivered at a time of provisioning a multi-technology mobile device, and updated based at least upon subscriber demand, a schedule established by a network operator or service provider, or an event related to coverage area relocation or contracted services. Radio technology preferences and display of associated technologies available to a multi-technology mobile device can be dynamically controlled on a per-call and/or per-application basis.'"
      ]
     },
     "execution_count": 4,
     "metadata": {},
     "output_type": "execute_result"
    }
   ],
   "source": [
    "abstract = soup.find_all(\"div\",  {\"class\": 'abstract'})\n",
    "abstract[0].text.strip()"
   ]
  },
  {
   "cell_type": "code",
   "execution_count": 5,
   "metadata": {},
   "outputs": [],
   "source": [
    "def parse_abstract(url):\n",
    "    r = requests.get(url)\n",
    "    soup = BeautifulSoup(r.content)\n",
    "    try:\n",
    "        abstract = soup.find_all('div', {'class': 'abstract'})[0].text.strip()\n",
    "    except Exception as e:\n",
    "        return None"
   ]
  },
  {
   "cell_type": "code",
   "execution_count": 6,
   "metadata": {},
   "outputs": [],
   "source": [
    "from IPython import display"
   ]
  },
  {
   "cell_type": "code",
   "execution_count": 7,
   "metadata": {},
   "outputs": [
    {
     "data": {
      "text/html": [
       "<img src=\"https://patentimages.storage.googleapis.com/68/6d/04/6c23f86955614a/US08271025-20120918-D00000.png\"/>"
      ],
      "text/plain": [
       "<IPython.core.display.Image object>"
      ]
     },
     "execution_count": 7,
     "metadata": {},
     "output_type": "execute_result"
    }
   ],
   "source": [
    "image_url = search_results.loc[0, 'representative figure link']\n",
    "display.Image(url = image_url)"
   ]
  },
  {
   "cell_type": "code",
   "execution_count": 8,
   "metadata": {},
   "outputs": [],
   "source": [
    "from tqdm import tqdm_notebook\n",
    "from timeit import default_timer as timer"
   ]
  },
  {
   "cell_type": "code",
   "execution_count": null,
   "metadata": {},
   "outputs": [
    {
     "name": "stdout",
     "output_type": "stream",
     "text": [
      "21.45% complete.\r"
     ]
    }
   ],
   "source": [
    "titles = search_results['title']\n",
    "urls = search_results['result link']\n",
    "\n",
    "results = {}\n",
    "start = timer()\n",
    "for i, (title, url) in enumerate(zip(titles, urls)):\n",
    "    print(f'{round(100 * (i / len(urls)), 2)}% complete.', end = '\\r')\n",
    "    results[title] = parse_abstract(url)\n",
    "end = timer()"
   ]
  },
  {
   "cell_type": "code",
   "execution_count": null,
   "metadata": {},
   "outputs": [],
   "source": [
    "from multiprocessing.dummy import Pool\n",
    "import tqdm\n",
    "\n",
    "pool = Pool(50)\n",
    "r = tqdm_notebook(pool.imap_unordered(parse_abstract, urls), total = len(urls))\n",
    "pool.close()\n",
    "pool.join()"
   ]
  },
  {
   "cell_type": "code",
   "execution_count": null,
   "metadata": {},
   "outputs": [],
   "source": [
    "soup.find(\"h1\").text"
   ]
  },
  {
   "cell_type": "code",
   "execution_count": null,
   "metadata": {},
   "outputs": [],
   "source": [
    "import json\n",
    "with open('../data/found_tech_patents.json', 'w') as fout:\n",
    "    # Iterate through each list element\n",
    "    for l in results:\n",
    "        # Write to file\n",
    "        fout.write(json.dumps(l) + '\\n')"
   ]
  },
  {
   "cell_type": "code",
   "execution_count": null,
   "metadata": {},
   "outputs": [],
   "source": []
  }
 ],
 "metadata": {
  "kernelspec": {
   "display_name": "Python 3",
   "language": "python",
   "name": "python3"
  },
  "language_info": {
   "codemirror_mode": {
    "name": "ipython",
    "version": 3
   },
   "file_extension": ".py",
   "mimetype": "text/x-python",
   "name": "python",
   "nbconvert_exporter": "python",
   "pygments_lexer": "ipython3",
   "version": "3.6.6"
  }
 },
 "nbformat": 4,
 "nbformat_minor": 2
}
