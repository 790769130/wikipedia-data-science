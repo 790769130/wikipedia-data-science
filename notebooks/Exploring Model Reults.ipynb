{
 "cells": [
  {
   "cell_type": "markdown",
   "metadata": {},
   "source": [
    "# Introduction: Using Trained Model\n",
    "\n",
    "The purpose of this noteobook is to use the trained word level model in order to make predictions. We can look at using both the model trained with pre-trained embeddings and the model with embeddings that were trained from scratch."
   ]
  },
  {
   "cell_type": "code",
   "execution_count": 14,
   "metadata": {},
   "outputs": [],
   "source": [
    "from keras import Model\n",
    "from keras.models import load_model\n",
    "\n",
    "import numpy as np\n",
    "import pandas as pd"
   ]
  },
  {
   "cell_type": "code",
   "execution_count": 4,
   "metadata": {},
   "outputs": [
    {
     "name": "stdout",
     "output_type": "stream",
     "text": [
      "_________________________________________________________________\n",
      "Layer (type)                 Output Shape              Param #   \n",
      "=================================================================\n",
      "embedding_2 (Embedding)      (None, None, 100)         1611500   \n",
      "_________________________________________________________________\n",
      "masking_1 (Masking)          (None, None, 100)         0         \n",
      "_________________________________________________________________\n",
      "lstm_1 (LSTM)                (None, None, 128)         117248    \n",
      "_________________________________________________________________\n",
      "time_distributed_1 (TimeDist (None, None, 100)         12900     \n",
      "_________________________________________________________________\n",
      "time_distributed_2 (TimeDist (None, None, 16115)       1627615   \n",
      "=================================================================\n",
      "Total params: 3,369,263\n",
      "Trainable params: 1,757,763\n",
      "Non-trainable params: 1,611,500\n",
      "_________________________________________________________________\n"
     ]
    }
   ],
   "source": [
    "model = load_model('../models/word-level-pre-trained_2.h5')\n",
    "model.summary()"
   ]
  },
  {
   "cell_type": "code",
   "execution_count": 6,
   "metadata": {},
   "outputs": [
    {
     "data": {
      "text/plain": [
       "(110, 142)"
      ]
     },
     "execution_count": 6,
     "metadata": {},
     "output_type": "execute_result"
    }
   ],
   "source": [
    "import json\n",
    "from itertools import chain\n",
    "import os\n",
    "\n",
    "data = []\n",
    "\n",
    "# Iterate through the patents\n",
    "for file in os.listdir('../data/patents_parsed/'):\n",
    "    # Open the file and read in every line\n",
    "    with open(f'../data/patents_parsed/{file}', 'rt') as fin:\n",
    "        data.append([json.loads(l) for l in fin])\n",
    "\n",
    "# Flatten list of lists\n",
    "data = list(chain(*data))\n",
    "\n",
    "# Filter out Null abstracst and short abstracts\n",
    "data = [r for r in data if r[0] is not None]\n",
    "data = [r for r in data if len(r[0]) >= 400]\n",
    "len(data)\n",
    "\n",
    "abstracts = [d[0] for d in data]\n",
    "titles = [d[1] for d in data]\n",
    "\n",
    "from keras.preprocessing.text import Tokenizer\n",
    "\n",
    "# Convert words to integer tokens\n",
    "tokenizer = Tokenizer(lower=True, filters='!\"#$%&(),:;.?*+-/@[\\\\]^_`{|}~\\t\\n')\n",
    "tokenizer.fit_on_texts(abstracts)\n",
    "\n",
    "wc = tokenizer.word_counts\n",
    "\n",
    "# Word counts as a list\n",
    "wcs = sorted(wc.items(), key = lambda x: x[1], reverse = True)\n",
    "len(wc), wcs[:10]\n",
    "\n",
    "sequences = tokenizer.texts_to_sequences(abstracts)\n",
    "len(sequences[2]), len(sequences[500])"
   ]
  },
  {
   "cell_type": "code",
   "execution_count": 9,
   "metadata": {},
   "outputs": [
    {
     "data": {
      "text/plain": [
       "(225, 1, 16115)"
      ]
     },
     "execution_count": 9,
     "metadata": {},
     "output_type": "execute_result"
    }
   ],
   "source": [
    "pred = model.predict(sequences[1])\n",
    "pred.shape"
   ]
  },
  {
   "cell_type": "code",
   "execution_count": 10,
   "metadata": {},
   "outputs": [
    {
     "data": {
      "text/plain": [
       "225"
      ]
     },
     "execution_count": 10,
     "metadata": {},
     "output_type": "execute_result"
    }
   ],
   "source": [
    "len(sequences[1])"
   ]
  },
  {
   "cell_type": "code",
   "execution_count": 23,
   "metadata": {},
   "outputs": [
    {
     "data": {
      "text/plain": [
       "224"
      ]
     },
     "execution_count": 23,
     "metadata": {},
     "output_type": "execute_result"
    }
   ],
   "source": [
    "len(abstracts[1].split())"
   ]
  },
  {
   "cell_type": "code",
   "execution_count": 24,
   "metadata": {},
   "outputs": [
    {
     "data": {
      "text/plain": [
       "\"a system is provided to reduce noise from a signal of speech that is contaminated by noise the present system employs an artificial intelligence that is capable of deciding upon the adjustment of a filter subsystem by distinguishing between noise and speech in the spectrum of the incoming signal of speech plus noise the system does this by testing the pattern of a power or envelope function of the frequency spectrum of the incoming signal the system determines that the fast changing portions of that envelope denote speech whereas the residual is determined to be the frequency distribution of the noise power this determination is done while examining either the whole spectrum or frequency bands thereof regardless of where the maximum of the spectrum lies in another embodiment of the invention a feedback loop is incorporated which provides incremental adjustments to the filter by employing a gradient search procedure to attempt to increase certain speech like features in the system's output the present system does not require consideration of minima of functions of the incoming signal or pauses in speech instead the present system employs an artificial intelligence system to which is input the envelope pattern of the incoming signal of speech and noise the present system then filters out of this envelope signal the rapidly changing variations of the envelope over fixed time windows\""
      ]
     },
     "execution_count": 24,
     "metadata": {},
     "output_type": "execute_result"
    }
   ],
   "source": [
    "true = []\n",
    "for i in sequences[1]:\n",
    "    true.append(tokenizer.index_word[i])\n",
    "    \n",
    "' '.join(true)"
   ]
  },
  {
   "cell_type": "code",
   "execution_count": 25,
   "metadata": {},
   "outputs": [
    {
     "data": {
      "text/plain": [
       "'plurality includes provided for the the the the plurality the the and is provided the the the system invention includes the input neural system is provided of the of a system the the plurality to the the to the the a and a system the the system data the the and a the system includes of method the to system the the plurality and more to to the system of the the system data the system includes the is system to the of the is to of and of system the provided the the used system of of the system the and method of provided a the of the system the the more of and the and the the system to the system the of a of to the system relates plurality of the provided the is a a the the system to the the plurality of and of the of the and the and the of a system of of system invention includes of a of and the and the of the system data the more of a and of system invention includes the input neural system includes the is provided data system to the the system data the the and a the system invention includes a of and the method to the system the the of the system to a network the the'"
      ]
     },
     "execution_count": 25,
     "metadata": {},
     "output_type": "execute_result"
    }
   ],
   "source": [
    "words = []\n",
    "idxes = []\n",
    "for p in pred[:, 0, :]:\n",
    "    index = np.argmax(p)\n",
    "    idxes.append(index)\n",
    "    words.append(tokenizer.index_word[index])\n",
    "    \n",
    "' '.join(words)"
   ]
  },
  {
   "cell_type": "code",
   "execution_count": 26,
   "metadata": {},
   "outputs": [
    {
     "data": {
      "text/plain": [
       "225"
      ]
     },
     "execution_count": 26,
     "metadata": {},
     "output_type": "execute_result"
    }
   ],
   "source": [
    "len(words)"
   ]
  },
  {
   "cell_type": "code",
   "execution_count": 28,
   "metadata": {},
   "outputs": [
    {
     "data": {
      "text/plain": [
       "225"
      ]
     },
     "execution_count": 28,
     "metadata": {},
     "output_type": "execute_result"
    }
   ],
   "source": [
    "len(true)"
   ]
  },
  {
   "cell_type": "code",
   "execution_count": 29,
   "metadata": {},
   "outputs": [],
   "source": [
    "def get_model(pretrained = False):\n",
    "    if pretrained: \n",
    "        f = '../models/word-level-pre-trained_2.h5'\n",
    "    else:\n",
    "        f = '../models/word-level-training-embeddings_2.h5'\n",
    "        \n",
    "    return load_model(f)"
   ]
  },
  {
   "cell_type": "code",
   "execution_count": 30,
   "metadata": {},
   "outputs": [],
   "source": [
    "model = get_model()"
   ]
  },
  {
   "cell_type": "code",
   "execution_count": 34,
   "metadata": {},
   "outputs": [
    {
     "data": {
      "text/plain": [
       "(28767,\n",
       " [('the', 52495),\n",
       "  ('a', 35564),\n",
       "  ('of', 31359),\n",
       "  ('and', 23444),\n",
       "  ('to', 21404),\n",
       "  ('for', 12013),\n",
       "  ('is', 11501),\n",
       "  ('in', 10477),\n",
       "  ('The', 9491),\n",
       "  ('an', 8060)])"
      ]
     },
     "execution_count": 34,
     "metadata": {},
     "output_type": "execute_result"
    }
   ],
   "source": [
    "# Convert words to integer tokens\n",
    "tokenizer = Tokenizer(lower=False, filters='!\"#$%&():;/@[\\\\]^_`{|}~\\t\\n')\n",
    "tokenizer.fit_on_texts(abstracts)\n",
    "\n",
    "wc = tokenizer.word_counts\n",
    "\n",
    "# Word counts as a list\n",
    "wcs = sorted(wc.items(), key = lambda x: x[1], reverse = True)\n",
    "len(wc), wcs[:10]"
   ]
  },
  {
   "cell_type": "code",
   "execution_count": 37,
   "metadata": {},
   "outputs": [],
   "source": [
    "sequences = tokenizer.texts_to_sequences(abstracts)\n",
    "word_index = tokenizer.word_index\n",
    "index_word = tokenizer.index_word"
   ]
  },
  {
   "cell_type": "code",
   "execution_count": 38,
   "metadata": {},
   "outputs": [
    {
     "data": {
      "text/plain": [
       "(224, 1, 28768)"
      ]
     },
     "execution_count": 38,
     "metadata": {},
     "output_type": "execute_result"
    }
   ],
   "source": [
    "pred = model.predict(sequences[1])\n",
    "pred.shape"
   ]
  },
  {
   "cell_type": "code",
   "execution_count": 39,
   "metadata": {},
   "outputs": [
    {
     "data": {
      "text/plain": [
       "'neural is used to the the of the plurality to the of is used or a The method learning is the input intelligence is is used of the as the neural of the plurality and and a of the of a of the neural of the neural system to the of the The method is not learning a and neural of the plurality of more and of the neural of of the neural system The method is a is neural the the of the is and neural of the neural and used and the used neural of of the neural of The input of used and the the a neural of the more of of and of the the neural and the neural of The the or of the neural the plurality of and used and is a the to the neural and a a plurality of of for the to the and and the of the neural a The method learning is not includes the of the of the for the neural system to more and the The the neural learning is the input intelligence is is the is used to neural and of the neural system to the of a The method learning is includes and to the learning and to neural and the of the neural and the and of The'"
      ]
     },
     "execution_count": 39,
     "metadata": {},
     "output_type": "execute_result"
    }
   ],
   "source": [
    "words = []\n",
    "idxes = []\n",
    "for p in pred[:, 0, :]:\n",
    "    index = np.argmax(p)\n",
    "    idxes.append(index)\n",
    "    words.append(tokenizer.index_word[index])\n",
    "    \n",
    "' '.join(words)"
   ]
  },
  {
   "cell_type": "code",
   "execution_count": 40,
   "metadata": {},
   "outputs": [],
   "source": [
    "word_index = tokenizer.word_index\n",
    "index_word = tokenizer.index_word"
   ]
  },
  {
   "cell_type": "code",
   "execution_count": 41,
   "metadata": {},
   "outputs": [
    {
     "data": {
      "text/plain": [
       "47"
      ]
     },
     "execution_count": 41,
     "metadata": {},
     "output_type": "execute_result"
    }
   ],
   "source": [
    "word_index.get('computer')"
   ]
  },
  {
   "cell_type": "code",
   "execution_count": 47,
   "metadata": {},
   "outputs": [
    {
     "data": {
      "text/plain": [
       "17"
      ]
     },
     "execution_count": 47,
     "metadata": {},
     "output_type": "execute_result"
    }
   ],
   "source": [
    "word_index.get('system')"
   ]
  },
  {
   "cell_type": "code",
   "execution_count": 50,
   "metadata": {},
   "outputs": [
    {
     "ename": "KeyError",
     "evalue": "57543",
     "output_type": "error",
     "traceback": [
      "\u001b[0;31m---------------------------------------------------------------------------\u001b[0m",
      "\u001b[0;31mKeyError\u001b[0m                                  Traceback (most recent call last)",
      "\u001b[0;32m<ipython-input-50-1ea058f78413>\u001b[0m in \u001b[0;36m<module>\u001b[0;34m()\u001b[0m\n\u001b[0;32m----> 1\u001b[0;31m \u001b[0mindex_word\u001b[0m\u001b[0;34m[\u001b[0m\u001b[0mnp\u001b[0m\u001b[0;34m.\u001b[0m\u001b[0margmax\u001b[0m\u001b[0;34m(\u001b[0m\u001b[0mmodel\u001b[0m\u001b[0;34m.\u001b[0m\u001b[0mpredict\u001b[0m\u001b[0;34m(\u001b[0m\u001b[0;34m[\u001b[0m\u001b[0;36m1\u001b[0m\u001b[0;34m,\u001b[0m \u001b[0;36m47\u001b[0m\u001b[0;34m,\u001b[0m \u001b[0;36m17\u001b[0m\u001b[0;34m]\u001b[0m\u001b[0;34m)\u001b[0m\u001b[0;34m)\u001b[0m\u001b[0;34m]\u001b[0m\u001b[0;34m\u001b[0m\u001b[0m\n\u001b[0m",
      "\u001b[0;31mKeyError\u001b[0m: 57543"
     ]
    }
   ],
   "source": [
    "index_word[np.argmax(model.predict([1, 47, 17]))]"
   ]
  },
  {
   "cell_type": "code",
   "execution_count": 49,
   "metadata": {},
   "outputs": [
    {
     "data": {
      "text/plain": [
       "'method invention is a of the intelligence is and the a plurality is is includes the system is The method is the neural of the neural system of the neural The method is the neural system a a for more and a the neural the neural and a neural to the neural system a a to the and The method invention is includes a a neural and of of the used to and the input and of of the to and more a input and of of the the of system of a neural The method of of to a neural is used includes to the the neural system The'"
      ]
     },
     "execution_count": 49,
     "metadata": {},
     "output_type": "execute_result"
    }
   ],
   "source": [
    "pred = model.predict(sequences[2])\n",
    "words = []\n",
    "idxes = []\n",
    "for p in pred[:, 0, :]:\n",
    "    index = np.argmax(p)\n",
    "    idxes.append(index)\n",
    "    words.append(tokenizer.index_word[index])\n",
    "    \n",
    "' '.join(words)"
   ]
  },
  {
   "cell_type": "code",
   "execution_count": 51,
   "metadata": {},
   "outputs": [
    {
     "data": {
      "text/plain": [
       "2425"
      ]
     },
     "execution_count": 51,
     "metadata": {},
     "output_type": "execute_result"
    }
   ],
   "source": [
    "tokenizer.word_counts['plurality']"
   ]
  },
  {
   "cell_type": "code",
   "execution_count": 53,
   "metadata": {},
   "outputs": [],
   "source": [
    "count = 0\n",
    "p_counts = {}\n",
    "\n",
    "for i, a in enumerate(abstracts):\n",
    "    a_count = 0\n",
    "    for word in a.split():\n",
    "        if word == 'plurality':\n",
    "            a_count += 1\n",
    "            count += 1\n",
    "    p_counts[i] = a_count"
   ]
  },
  {
   "cell_type": "code",
   "execution_count": 54,
   "metadata": {},
   "outputs": [
    {
     "data": {
      "text/plain": [
       "[(1805, 11),\n",
       " (4683, 11),\n",
       " (1922, 10),\n",
       " (5621, 10),\n",
       " (3334, 9),\n",
       " (4200, 9),\n",
       " (193, 8),\n",
       " (388, 8),\n",
       " (574, 8),\n",
       " (1138, 8),\n",
       " (1217, 8),\n",
       " (1952, 8),\n",
       " (3968, 8),\n",
       " (4155, 8),\n",
       " (4605, 8),\n",
       " (4610, 8),\n",
       " (4769, 8),\n",
       " (5354, 8),\n",
       " (5448, 8),\n",
       " (769, 7),\n",
       " (837, 7),\n",
       " (1085, 7),\n",
       " (1366, 7),\n",
       " (2031, 7),\n",
       " (4144, 7),\n",
       " (4560, 7),\n",
       " (4789, 7),\n",
       " (4942, 7),\n",
       " (4966, 7),\n",
       " (5323, 7),\n",
       " (5413, 7),\n",
       " (161, 6),\n",
       " (255, 6),\n",
       " (438, 6),\n",
       " (689, 6),\n",
       " (1099, 6),\n",
       " (1455, 6),\n",
       " (1507, 6),\n",
       " (1588, 6),\n",
       " (2247, 6),\n",
       " (2267, 6),\n",
       " (2560, 6),\n",
       " (3011, 6),\n",
       " (4162, 6),\n",
       " (4212, 6),\n",
       " (4327, 6),\n",
       " (4800, 6),\n",
       " (4843, 6),\n",
       " (5020, 6),\n",
       " (5030, 6),\n",
       " (5203, 6),\n",
       " (5361, 6),\n",
       " (5460, 6),\n",
       " (5857, 6),\n",
       " (147, 5),\n",
       " (276, 5),\n",
       " (637, 5),\n",
       " (926, 5),\n",
       " (1174, 5),\n",
       " (1303, 5),\n",
       " (1540, 5),\n",
       " (1688, 5),\n",
       " (1723, 5),\n",
       " (2184, 5),\n",
       " (2210, 5),\n",
       " (2532, 5),\n",
       " (2585, 5),\n",
       " (2610, 5),\n",
       " (2801, 5),\n",
       " (2908, 5),\n",
       " (3043, 5),\n",
       " (3207, 5),\n",
       " (3281, 5),\n",
       " (3568, 5),\n",
       " (4082, 5),\n",
       " (4316, 5),\n",
       " (4521, 5),\n",
       " (4704, 5),\n",
       " (4744, 5),\n",
       " (4792, 5),\n",
       " (4821, 5),\n",
       " (4838, 5),\n",
       " (5285, 5),\n",
       " (5327, 5),\n",
       " (5422, 5),\n",
       " (5720, 5),\n",
       " (5769, 5),\n",
       " (65, 4),\n",
       " (77, 4),\n",
       " (92, 4),\n",
       " (103, 4),\n",
       " (165, 4),\n",
       " (325, 4),\n",
       " (473, 4),\n",
       " (583, 4),\n",
       " (663, 4),\n",
       " (679, 4),\n",
       " (694, 4),\n",
       " (733, 4),\n",
       " (803, 4),\n",
       " (1181, 4),\n",
       " (1331, 4),\n",
       " (1485, 4),\n",
       " (1561, 4),\n",
       " (1864, 4),\n",
       " (2030, 4),\n",
       " (2046, 4),\n",
       " (2193, 4),\n",
       " (2259, 4),\n",
       " (2447, 4),\n",
       " (2553, 4),\n",
       " (2582, 4),\n",
       " (2671, 4),\n",
       " (3013, 4),\n",
       " (3388, 4),\n",
       " (3523, 4),\n",
       " (3593, 4),\n",
       " (3646, 4),\n",
       " (3665, 4),\n",
       " (3966, 4),\n",
       " (4065, 4),\n",
       " (4070, 4),\n",
       " (4077, 4),\n",
       " (4132, 4),\n",
       " (4190, 4),\n",
       " (4267, 4),\n",
       " (4391, 4),\n",
       " (4534, 4),\n",
       " (4695, 4),\n",
       " (4703, 4),\n",
       " (4794, 4),\n",
       " (4814, 4),\n",
       " (5350, 4),\n",
       " (5355, 4),\n",
       " (5443, 4),\n",
       " (5462, 4),\n",
       " (5499, 4),\n",
       " (5542, 4),\n",
       " (5618, 4),\n",
       " (5645, 4),\n",
       " (5733, 4),\n",
       " (5807, 4),\n",
       " (5850, 4),\n",
       " (5894, 4),\n",
       " (5923, 4),\n",
       " (54, 3),\n",
       " (75, 3),\n",
       " (106, 3),\n",
       " (210, 3),\n",
       " (251, 3),\n",
       " (366, 3),\n",
       " (493, 3),\n",
       " (544, 3),\n",
       " (571, 3),\n",
       " (582, 3),\n",
       " (609, 3),\n",
       " (651, 3),\n",
       " (691, 3),\n",
       " (718, 3),\n",
       " (752, 3),\n",
       " (781, 3),\n",
       " (800, 3),\n",
       " (853, 3),\n",
       " (1036, 3),\n",
       " (1190, 3),\n",
       " (1295, 3),\n",
       " (1305, 3),\n",
       " (1307, 3),\n",
       " (1315, 3),\n",
       " (1465, 3),\n",
       " (1598, 3),\n",
       " (1627, 3),\n",
       " (1798, 3),\n",
       " (1837, 3),\n",
       " (1854, 3),\n",
       " (1884, 3),\n",
       " (1914, 3),\n",
       " (1918, 3),\n",
       " (1940, 3),\n",
       " (1956, 3),\n",
       " (2220, 3),\n",
       " (2242, 3),\n",
       " (2249, 3),\n",
       " (2266, 3),\n",
       " (2369, 3),\n",
       " (2409, 3),\n",
       " (2476, 3),\n",
       " (2504, 3),\n",
       " (2518, 3),\n",
       " (2536, 3),\n",
       " (2617, 3),\n",
       " (2633, 3),\n",
       " (2636, 3),\n",
       " (2648, 3),\n",
       " (2761, 3),\n",
       " (2779, 3),\n",
       " (2786, 3),\n",
       " (2907, 3),\n",
       " (3036, 3),\n",
       " (3059, 3),\n",
       " (3060, 3),\n",
       " (3088, 3),\n",
       " (3106, 3),\n",
       " (3134, 3),\n",
       " (3153, 3),\n",
       " (3162, 3),\n",
       " (3165, 3),\n",
       " (3199, 3),\n",
       " (3255, 3),\n",
       " (3266, 3),\n",
       " (3268, 3),\n",
       " (3340, 3),\n",
       " (3385, 3),\n",
       " (3469, 3),\n",
       " (3517, 3),\n",
       " (3561, 3),\n",
       " (3575, 3),\n",
       " (3620, 3),\n",
       " (3744, 3),\n",
       " (3811, 3),\n",
       " (3847, 3),\n",
       " (4000, 3),\n",
       " (4030, 3),\n",
       " (4044, 3),\n",
       " (4064, 3),\n",
       " (4066, 3),\n",
       " (4096, 3),\n",
       " (4259, 3),\n",
       " (4264, 3),\n",
       " (4283, 3),\n",
       " (4300, 3),\n",
       " (4362, 3),\n",
       " (4397, 3),\n",
       " (4449, 3),\n",
       " (4501, 3),\n",
       " (4510, 3),\n",
       " (4531, 3),\n",
       " (4572, 3),\n",
       " (4623, 3),\n",
       " (4630, 3),\n",
       " (4639, 3),\n",
       " (4674, 3),\n",
       " (4842, 3),\n",
       " (4849, 3),\n",
       " (4853, 3),\n",
       " (4881, 3),\n",
       " (5045, 3),\n",
       " (5239, 3),\n",
       " (5314, 3),\n",
       " (5403, 3),\n",
       " (5479, 3),\n",
       " (5498, 3),\n",
       " (5526, 3),\n",
       " (5585, 3),\n",
       " (5589, 3),\n",
       " (5625, 3),\n",
       " (5629, 3),\n",
       " (5648, 3),\n",
       " (5654, 3),\n",
       " (5679, 3),\n",
       " (5706, 3),\n",
       " (5945, 3),\n",
       " (29, 2),\n",
       " (31, 2),\n",
       " (43, 2),\n",
       " (49, 2),\n",
       " (50, 2),\n",
       " (88, 2),\n",
       " (94, 2),\n",
       " (141, 2),\n",
       " (188, 2),\n",
       " (217, 2),\n",
       " (221, 2),\n",
       " (246, 2),\n",
       " (247, 2),\n",
       " (270, 2),\n",
       " (282, 2),\n",
       " (304, 2),\n",
       " (307, 2),\n",
       " (343, 2),\n",
       " (364, 2),\n",
       " (368, 2),\n",
       " (372, 2),\n",
       " (390, 2),\n",
       " (392, 2),\n",
       " (394, 2),\n",
       " (406, 2),\n",
       " (418, 2),\n",
       " (440, 2),\n",
       " (468, 2),\n",
       " (491, 2),\n",
       " (511, 2),\n",
       " (516, 2),\n",
       " (517, 2),\n",
       " (531, 2),\n",
       " (548, 2),\n",
       " (559, 2),\n",
       " (573, 2),\n",
       " (576, 2),\n",
       " (589, 2),\n",
       " (617, 2),\n",
       " (639, 2),\n",
       " (658, 2),\n",
       " (692, 2),\n",
       " (693, 2),\n",
       " (710, 2),\n",
       " (726, 2),\n",
       " (756, 2),\n",
       " (759, 2),\n",
       " (764, 2),\n",
       " (776, 2),\n",
       " (777, 2),\n",
       " (830, 2),\n",
       " (847, 2),\n",
       " (951, 2),\n",
       " (978, 2),\n",
       " (1015, 2),\n",
       " (1017, 2),\n",
       " (1026, 2),\n",
       " (1056, 2),\n",
       " (1110, 2),\n",
       " (1132, 2),\n",
       " (1161, 2),\n",
       " (1166, 2),\n",
       " (1171, 2),\n",
       " (1176, 2),\n",
       " (1234, 2),\n",
       " (1252, 2),\n",
       " (1253, 2),\n",
       " (1318, 2),\n",
       " (1379, 2),\n",
       " (1415, 2),\n",
       " (1420, 2),\n",
       " (1478, 2),\n",
       " (1489, 2),\n",
       " (1530, 2),\n",
       " (1534, 2),\n",
       " (1549, 2),\n",
       " (1551, 2),\n",
       " (1557, 2),\n",
       " (1590, 2),\n",
       " (1620, 2),\n",
       " (1624, 2),\n",
       " (1646, 2),\n",
       " (1650, 2),\n",
       " (1672, 2),\n",
       " (1678, 2),\n",
       " (1679, 2),\n",
       " (1683, 2),\n",
       " (1690, 2),\n",
       " (1698, 2),\n",
       " (1708, 2),\n",
       " (1710, 2),\n",
       " (1741, 2),\n",
       " (1757, 2),\n",
       " (1761, 2),\n",
       " (1787, 2),\n",
       " (1797, 2),\n",
       " (1820, 2),\n",
       " (1830, 2),\n",
       " (1853, 2),\n",
       " (1858, 2),\n",
       " (1881, 2),\n",
       " (1925, 2),\n",
       " (1944, 2),\n",
       " (1946, 2),\n",
       " (1965, 2),\n",
       " (1970, 2),\n",
       " (1990, 2),\n",
       " (2001, 2),\n",
       " (2015, 2),\n",
       " (2027, 2),\n",
       " (2040, 2),\n",
       " (2075, 2),\n",
       " (2093, 2),\n",
       " (2109, 2),\n",
       " (2116, 2),\n",
       " (2202, 2),\n",
       " (2204, 2),\n",
       " (2224, 2),\n",
       " (2248, 2),\n",
       " (2250, 2),\n",
       " (2255, 2),\n",
       " (2272, 2),\n",
       " (2277, 2),\n",
       " (2283, 2),\n",
       " (2314, 2),\n",
       " (2406, 2),\n",
       " (2422, 2),\n",
       " (2443, 2),\n",
       " (2463, 2),\n",
       " (2464, 2),\n",
       " (2468, 2),\n",
       " (2475, 2),\n",
       " (2535, 2),\n",
       " (2551, 2),\n",
       " (2586, 2),\n",
       " (2601, 2),\n",
       " (2643, 2),\n",
       " (2656, 2),\n",
       " (2674, 2),\n",
       " (2704, 2),\n",
       " (2714, 2),\n",
       " (2737, 2),\n",
       " (2741, 2),\n",
       " (2744, 2),\n",
       " (2765, 2),\n",
       " (2776, 2),\n",
       " (2778, 2),\n",
       " (2830, 2),\n",
       " (2887, 2),\n",
       " (2902, 2),\n",
       " (2914, 2),\n",
       " (2916, 2),\n",
       " (2937, 2),\n",
       " (2939, 2),\n",
       " (2992, 2),\n",
       " (3003, 2),\n",
       " (3097, 2),\n",
       " (3143, 2),\n",
       " (3146, 2),\n",
       " (3150, 2),\n",
       " (3164, 2),\n",
       " (3177, 2),\n",
       " (3224, 2),\n",
       " (3250, 2),\n",
       " (3267, 2),\n",
       " (3276, 2),\n",
       " (3306, 2),\n",
       " (3347, 2),\n",
       " (3359, 2),\n",
       " (3379, 2),\n",
       " (3384, 2),\n",
       " (3424, 2),\n",
       " (3430, 2),\n",
       " (3432, 2),\n",
       " (3515, 2),\n",
       " (3519, 2),\n",
       " (3522, 2),\n",
       " (3531, 2),\n",
       " (3549, 2),\n",
       " (3559, 2),\n",
       " (3563, 2),\n",
       " (3572, 2),\n",
       " (3577, 2),\n",
       " (3578, 2),\n",
       " (3579, 2),\n",
       " (3580, 2),\n",
       " (3582, 2),\n",
       " (3600, 2),\n",
       " (3610, 2),\n",
       " (3619, 2),\n",
       " (3629, 2),\n",
       " (3631, 2),\n",
       " (3639, 2),\n",
       " (3645, 2),\n",
       " (3647, 2),\n",
       " (3672, 2),\n",
       " (3678, 2),\n",
       " (3742, 2),\n",
       " (3755, 2),\n",
       " (3779, 2),\n",
       " (3818, 2),\n",
       " (3878, 2),\n",
       " (3888, 2),\n",
       " (3910, 2),\n",
       " (3929, 2),\n",
       " (3943, 2),\n",
       " (3967, 2),\n",
       " (3980, 2),\n",
       " (4079, 2),\n",
       " (4084, 2),\n",
       " (4145, 2),\n",
       " (4158, 2),\n",
       " (4183, 2),\n",
       " (4198, 2),\n",
       " (4210, 2),\n",
       " (4215, 2),\n",
       " (4221, 2),\n",
       " (4229, 2),\n",
       " (4242, 2),\n",
       " (4245, 2),\n",
       " (4251, 2),\n",
       " (4257, 2),\n",
       " (4261, 2),\n",
       " (4272, 2),\n",
       " (4275, 2),\n",
       " (4284, 2),\n",
       " (4286, 2),\n",
       " (4287, 2),\n",
       " (4292, 2),\n",
       " (4304, 2),\n",
       " (4328, 2),\n",
       " (4337, 2),\n",
       " (4375, 2),\n",
       " (4381, 2),\n",
       " (4396, 2),\n",
       " (4410, 2),\n",
       " (4411, 2),\n",
       " (4416, 2),\n",
       " (4417, 2),\n",
       " (4418, 2),\n",
       " (4433, 2),\n",
       " (4436, 2),\n",
       " (4439, 2),\n",
       " (4441, 2),\n",
       " (4460, 2),\n",
       " (4473, 2),\n",
       " (4478, 2),\n",
       " (4491, 2),\n",
       " (4497, 2),\n",
       " (4504, 2),\n",
       " (4529, 2),\n",
       " (4537, 2),\n",
       " (4546, 2),\n",
       " (4555, 2),\n",
       " (4585, 2),\n",
       " (4590, 2),\n",
       " (4597, 2),\n",
       " (4621, 2),\n",
       " (4625, 2),\n",
       " (4629, 2),\n",
       " (4642, 2),\n",
       " (4648, 2),\n",
       " (4653, 2),\n",
       " (4663, 2),\n",
       " (4712, 2),\n",
       " (4714, 2),\n",
       " (4722, 2),\n",
       " (4726, 2),\n",
       " (4732, 2),\n",
       " (4742, 2),\n",
       " (4763, 2),\n",
       " (4766, 2),\n",
       " (4770, 2),\n",
       " (4793, 2),\n",
       " (4799, 2),\n",
       " (4804, 2),\n",
       " (4810, 2),\n",
       " (4818, 2),\n",
       " (4831, 2),\n",
       " (4835, 2),\n",
       " (4836, 2),\n",
       " (4839, 2),\n",
       " (4865, 2),\n",
       " (4867, 2),\n",
       " (4882, 2),\n",
       " (4892, 2),\n",
       " (4897, 2),\n",
       " (4920, 2),\n",
       " (4933, 2),\n",
       " (4969, 2),\n",
       " (5022, 2),\n",
       " (5031, 2),\n",
       " (5054, 2),\n",
       " (5072, 2),\n",
       " (5085, 2),\n",
       " (5096, 2),\n",
       " (5128, 2),\n",
       " (5133, 2),\n",
       " (5135, 2),\n",
       " (5163, 2),\n",
       " (5167, 2),\n",
       " (5186, 2),\n",
       " (5218, 2),\n",
       " (5225, 2),\n",
       " (5226, 2),\n",
       " (5268, 2),\n",
       " (5271, 2),\n",
       " (5322, 2),\n",
       " (5365, 2),\n",
       " (5382, 2),\n",
       " (5411, 2),\n",
       " (5414, 2),\n",
       " (5476, 2),\n",
       " (5497, 2),\n",
       " (5538, 2),\n",
       " (5544, 2),\n",
       " (5551, 2),\n",
       " (5567, 2),\n",
       " (5592, 2),\n",
       " (5600, 2),\n",
       " (5672, 2),\n",
       " (5677, 2),\n",
       " (5698, 2),\n",
       " (5713, 2),\n",
       " (5721, 2),\n",
       " (5732, 2),\n",
       " (5745, 2),\n",
       " (5749, 2),\n",
       " (5751, 2),\n",
       " (5756, 2),\n",
       " (5777, 2),\n",
       " (5783, 2),\n",
       " (5786, 2),\n",
       " (5806, 2),\n",
       " (5856, 2),\n",
       " (5884, 2),\n",
       " (5888, 2),\n",
       " (5909, 2),\n",
       " (5928, 2),\n",
       " (95, 1),\n",
       " (115, 1),\n",
       " (137, 1),\n",
       " (152, 1),\n",
       " (157, 1),\n",
       " (168, 1),\n",
       " (198, 1),\n",
       " (205, 1),\n",
       " (208, 1),\n",
       " (212, 1),\n",
       " (213, 1),\n",
       " (257, 1),\n",
       " (274, 1),\n",
       " (285, 1),\n",
       " (288, 1),\n",
       " (297, 1),\n",
       " (302, 1),\n",
       " (313, 1),\n",
       " (316, 1),\n",
       " (337, 1),\n",
       " (338, 1),\n",
       " (351, 1),\n",
       " (356, 1),\n",
       " (357, 1),\n",
       " (360, 1),\n",
       " (383, 1),\n",
       " (391, 1),\n",
       " (409, 1),\n",
       " (413, 1),\n",
       " (419, 1),\n",
       " (421, 1),\n",
       " (424, 1),\n",
       " (425, 1),\n",
       " (426, 1),\n",
       " (431, 1),\n",
       " (446, 1),\n",
       " (466, 1),\n",
       " (467, 1),\n",
       " (480, 1),\n",
       " (487, 1),\n",
       " (489, 1),\n",
       " (512, 1),\n",
       " (519, 1),\n",
       " (522, 1),\n",
       " (536, 1),\n",
       " (546, 1),\n",
       " (550, 1),\n",
       " (566, 1),\n",
       " (572, 1),\n",
       " (584, 1),\n",
       " (586, 1),\n",
       " (605, 1),\n",
       " (621, 1),\n",
       " (622, 1),\n",
       " (634, 1),\n",
       " (645, 1),\n",
       " (669, 1),\n",
       " (671, 1),\n",
       " (673, 1),\n",
       " (675, 1),\n",
       " (705, 1),\n",
       " (708, 1),\n",
       " (711, 1),\n",
       " (712, 1),\n",
       " (725, 1),\n",
       " (736, 1),\n",
       " (747, 1),\n",
       " (749, 1),\n",
       " (751, 1),\n",
       " (758, 1),\n",
       " (771, 1),\n",
       " (773, 1),\n",
       " (798, 1),\n",
       " (799, 1),\n",
       " (802, 1),\n",
       " (807, 1),\n",
       " (814, 1),\n",
       " (821, 1),\n",
       " (825, 1),\n",
       " (826, 1),\n",
       " (859, 1),\n",
       " (875, 1),\n",
       " (878, 1),\n",
       " (881, 1),\n",
       " (892, 1),\n",
       " (923, 1),\n",
       " (936, 1),\n",
       " (938, 1),\n",
       " (948, 1),\n",
       " (963, 1),\n",
       " (966, 1),\n",
       " (990, 1),\n",
       " (992, 1),\n",
       " (1002, 1),\n",
       " (1033, 1),\n",
       " (1041, 1),\n",
       " (1042, 1),\n",
       " (1053, 1),\n",
       " (1083, 1),\n",
       " (1105, 1),\n",
       " (1114, 1),\n",
       " (1136, 1),\n",
       " (1140, 1),\n",
       " (1168, 1),\n",
       " (1172, 1),\n",
       " (1188, 1),\n",
       " (1200, 1),\n",
       " (1228, 1),\n",
       " (1229, 1),\n",
       " (1230, 1),\n",
       " (1237, 1),\n",
       " (1239, 1),\n",
       " (1251, 1),\n",
       " (1268, 1),\n",
       " (1270, 1),\n",
       " (1298, 1),\n",
       " (1306, 1),\n",
       " (1309, 1),\n",
       " (1321, 1),\n",
       " (1338, 1),\n",
       " (1344, 1),\n",
       " (1351, 1),\n",
       " (1370, 1),\n",
       " (1383, 1),\n",
       " (1395, 1),\n",
       " (1396, 1),\n",
       " (1397, 1),\n",
       " (1401, 1),\n",
       " (1430, 1),\n",
       " (1432, 1),\n",
       " (1434, 1),\n",
       " (1436, 1),\n",
       " (1452, 1),\n",
       " (1480, 1),\n",
       " (1500, 1),\n",
       " (1509, 1),\n",
       " (1510, 1),\n",
       " (1511, 1),\n",
       " (1514, 1),\n",
       " (1523, 1),\n",
       " (1535, 1),\n",
       " (1548, 1),\n",
       " (1550, 1),\n",
       " (1574, 1),\n",
       " (1579, 1),\n",
       " (1581, 1),\n",
       " (1606, 1),\n",
       " (1609, 1),\n",
       " (1617, 1),\n",
       " (1619, 1),\n",
       " (1662, 1),\n",
       " (1663, 1),\n",
       " (1667, 1),\n",
       " (1673, 1),\n",
       " (1685, 1),\n",
       " (1687, 1),\n",
       " (1692, 1),\n",
       " (1694, 1),\n",
       " (1705, 1),\n",
       " (1715, 1),\n",
       " (1730, 1),\n",
       " (1736, 1),\n",
       " (1740, 1),\n",
       " (1746, 1),\n",
       " (1764, 1),\n",
       " (1773, 1),\n",
       " (1778, 1),\n",
       " (1788, 1),\n",
       " (1795, 1),\n",
       " (1799, 1),\n",
       " (1816, 1),\n",
       " (1823, 1),\n",
       " (1839, 1),\n",
       " (1842, 1),\n",
       " (1845, 1),\n",
       " (1848, 1),\n",
       " (1855, 1),\n",
       " (1857, 1),\n",
       " (1859, 1),\n",
       " (1863, 1),\n",
       " (1872, 1),\n",
       " (1874, 1),\n",
       " (1880, 1),\n",
       " (1901, 1),\n",
       " (1907, 1),\n",
       " (1939, 1),\n",
       " (1945, 1),\n",
       " (1948, 1),\n",
       " (1949, 1),\n",
       " (1951, 1),\n",
       " (1954, 1),\n",
       " (1960, 1),\n",
       " (1974, 1),\n",
       " (1977, 1),\n",
       " (1979, 1),\n",
       " (1993, 1),\n",
       " (2010, 1),\n",
       " (2016, 1),\n",
       " (2020, 1),\n",
       " (2023, 1),\n",
       " (2029, 1),\n",
       " (2035, 1),\n",
       " (2043, 1),\n",
       " (2047, 1),\n",
       " (2064, 1),\n",
       " (2080, 1),\n",
       " (2094, 1),\n",
       " (2098, 1),\n",
       " (2102, 1),\n",
       " (2108, 1),\n",
       " (2134, 1),\n",
       " (2157, 1),\n",
       " (2178, 1),\n",
       " (2191, 1),\n",
       " (2197, 1),\n",
       " (2209, 1),\n",
       " (2215, 1),\n",
       " (2218, 1),\n",
       " (2225, 1),\n",
       " (2244, 1),\n",
       " (2246, 1),\n",
       " (2252, 1),\n",
       " (2273, 1),\n",
       " (2275, 1),\n",
       " (2280, 1),\n",
       " (2287, 1),\n",
       " (2293, 1),\n",
       " (2312, 1),\n",
       " (2320, 1),\n",
       " (2331, 1),\n",
       " (2333, 1),\n",
       " (2336, 1),\n",
       " (2343, 1),\n",
       " (2353, 1),\n",
       " (2384, 1),\n",
       " (2392, 1),\n",
       " (2423, 1),\n",
       " (2440, 1),\n",
       " (2449, 1),\n",
       " (2451, 1),\n",
       " (2466, 1),\n",
       " (2488, 1),\n",
       " (2489, 1),\n",
       " (2502, 1),\n",
       " (2503, 1),\n",
       " (2513, 1),\n",
       " (2522, 1),\n",
       " (2527, 1),\n",
       " (2537, 1),\n",
       " (2538, 1),\n",
       " (2554, 1),\n",
       " (2562, 1),\n",
       " (2584, 1),\n",
       " (2592, 1),\n",
       " (2604, 1),\n",
       " (2652, 1),\n",
       " (2660, 1),\n",
       " (2669, 1),\n",
       " (2672, 1),\n",
       " (2673, 1),\n",
       " (2677, 1),\n",
       " (2684, 1),\n",
       " (2685, 1),\n",
       " (2686, 1),\n",
       " (2692, 1),\n",
       " (2693, 1),\n",
       " (2711, 1),\n",
       " (2719, 1),\n",
       " (2720, 1),\n",
       " (2722, 1),\n",
       " (2725, 1),\n",
       " (2733, 1),\n",
       " (2748, 1),\n",
       " (2751, 1),\n",
       " (2756, 1),\n",
       " (2757, 1),\n",
       " (2759, 1),\n",
       " (2764, 1),\n",
       " (2766, 1),\n",
       " (2774, 1),\n",
       " (2775, 1),\n",
       " (2793, 1),\n",
       " (2797, 1),\n",
       " (2798, 1),\n",
       " (2811, 1),\n",
       " (2820, 1),\n",
       " (2832, 1),\n",
       " (2843, 1),\n",
       " (2844, 1),\n",
       " (2849, 1),\n",
       " (2852, 1),\n",
       " (2863, 1),\n",
       " (2877, 1),\n",
       " (2878, 1),\n",
       " (2886, 1),\n",
       " (2890, 1),\n",
       " (2893, 1),\n",
       " (2903, 1),\n",
       " (2911, 1),\n",
       " (2940, 1),\n",
       " (2942, 1),\n",
       " (2943, 1),\n",
       " (2949, 1),\n",
       " (2955, 1),\n",
       " (2957, 1),\n",
       " (2966, 1),\n",
       " (2972, 1),\n",
       " (2977, 1),\n",
       " (2978, 1),\n",
       " (2990, 1),\n",
       " (3006, 1),\n",
       " (3022, 1),\n",
       " (3034, 1),\n",
       " (3041, 1),\n",
       " (3069, 1),\n",
       " (3076, 1),\n",
       " (3105, 1),\n",
       " (3110, 1),\n",
       " (3112, 1),\n",
       " (3113, 1),\n",
       " (3123, 1),\n",
       " (3147, 1),\n",
       " (3156, 1),\n",
       " (3159, 1),\n",
       " (3169, 1),\n",
       " (3170, 1),\n",
       " (3176, 1),\n",
       " (3182, 1),\n",
       " (3189, 1),\n",
       " (3202, 1),\n",
       " (3218, 1),\n",
       " (3228, 1),\n",
       " (3244, 1),\n",
       " (3256, 1),\n",
       " (3261, 1),\n",
       " (3269, 1),\n",
       " (3275, 1),\n",
       " (3277, 1),\n",
       " (3278, 1),\n",
       " (3291, 1),\n",
       " (3293, 1),\n",
       " (3294, 1),\n",
       " (3297, 1),\n",
       " (3304, 1),\n",
       " (3307, 1),\n",
       " (3322, 1),\n",
       " (3328, 1),\n",
       " (3331, 1),\n",
       " (3332, 1),\n",
       " (3341, 1),\n",
       " (3345, 1),\n",
       " (3349, 1),\n",
       " (3364, 1),\n",
       " (3368, 1),\n",
       " (3370, 1),\n",
       " (3373, 1),\n",
       " (3377, 1),\n",
       " (3406, 1),\n",
       " (3407, 1),\n",
       " (3413, 1),\n",
       " (3433, 1),\n",
       " (3443, 1),\n",
       " (3448, 1),\n",
       " (3450, 1),\n",
       " (3467, 1),\n",
       " (3468, 1),\n",
       " (3470, 1),\n",
       " (3473, 1),\n",
       " (3486, 1),\n",
       " (3492, 1),\n",
       " (3494, 1),\n",
       " (3496, 1),\n",
       " (3521, 1),\n",
       " (3526, 1),\n",
       " (3528, 1),\n",
       " (3529, 1),\n",
       " (3530, 1),\n",
       " (3537, 1),\n",
       " (3541, 1),\n",
       " (3543, 1),\n",
       " (3546, 1),\n",
       " (3554, 1),\n",
       " (3555, 1),\n",
       " (3560, 1),\n",
       " (3565, 1),\n",
       " (3570, 1),\n",
       " (3573, 1),\n",
       " (3574, 1),\n",
       " (3585, 1),\n",
       " (3598, 1),\n",
       " (3607, 1),\n",
       " (3617, 1),\n",
       " (3627, 1),\n",
       " (3654, 1),\n",
       " (3657, 1),\n",
       " (3659, 1),\n",
       " (3664, 1),\n",
       " (3669, 1),\n",
       " (3671, 1),\n",
       " ...]"
      ]
     },
     "execution_count": 54,
     "metadata": {},
     "output_type": "execute_result"
    }
   ],
   "source": [
    "sorted(p_counts.items(), key = lambda x: x[1], reverse = True)"
   ]
  },
  {
   "cell_type": "code",
   "execution_count": 55,
   "metadata": {},
   "outputs": [
    {
     "data": {
      "text/plain": [
       "'A system for detecting a network intrusion includes a first neural network for determining a first plurality of weight values corresponding to a plurality of vectors of an input data, a second neural network for updating the first plurality of weight values received from the first neural network to a second plurality of weight values based on the plurality of vectors of the input data, a third neural network for updating the second plurality of weight values received from the second neural network to a third plurality of weight values based on the plurality of vectors of the input data, and a classification module for classifying the plurality of vectors under at least one of a plurality of intrusions based on the third plurality of weight values received from the third neural network.'"
      ]
     },
     "execution_count": 55,
     "metadata": {},
     "output_type": "execute_result"
    }
   ],
   "source": [
    "abstracts[1805]"
   ]
  },
  {
   "cell_type": "code",
   "execution_count": 56,
   "metadata": {},
   "outputs": [
    {
     "data": {
      "text/plain": [
       "'Feature Based Three Stage Neural Network Intrusion Detection '"
      ]
     },
     "execution_count": 56,
     "metadata": {},
     "output_type": "execute_result"
    }
   ],
   "source": [
    "titles[1805]"
   ]
  },
  {
   "cell_type": "markdown",
   "metadata": {},
   "source": [
    "# Injecting Diversity into Predictions"
   ]
  },
  {
   "cell_type": "code",
   "execution_count": 64,
   "metadata": {},
   "outputs": [],
   "source": [
    "import matplotlib.pyplot as plt\n",
    "%matplotlib inline\n",
    "import seaborn as sns"
   ]
  },
  {
   "cell_type": "code",
   "execution_count": 89,
   "metadata": {},
   "outputs": [],
   "source": [
    "def diversify(arr, diversity, plot = False):\n",
    "    div = np.log(arr) / diversity\n",
    "    exp_preds = np.exp(div)\n",
    "    preds = exp_preds / np.sum(exp_preds)\n",
    "    if plot:\n",
    "        plt.figure(figsize = (10, 8));\n",
    "        plt.subplot(2, 1, 1);\n",
    "        sns.distplot(arr); plt.title('Original Distribution');\n",
    "        plt.subplot(2, 1, 2);\n",
    "        sns.distplot(preds); plt.title(f'Distribution with {diversity} diversity')\n",
    "    probas = np.random.multinomial(1, preds, 1);\n",
    "    return probas"
   ]
  },
  {
   "cell_type": "code",
   "execution_count": 90,
   "metadata": {},
   "outputs": [
    {
     "data": {
      "image/png": "[encoded data removed]",
      "text/plain": [
       "<Figure size 720x576 with 2 Axes>"
      ]
     },
     "metadata": {},
     "output_type": "display_data"
    }
   ],
   "source": [
    "_ = diversify([0.1, 0.2, 0.4, 0.8, 0.9, 0.1, 0.3, 0.4], 2, plot = True)"
   ]
  },
  {
   "cell_type": "code",
   "execution_count": 95,
   "metadata": {},
   "outputs": [
    {
     "data": {
      "text/plain": [
       "'RDCNN.'"
      ]
     },
     "execution_count": 95,
     "metadata": {},
     "output_type": "execute_result"
    },
    {
     "data": {
      "image/png": "[encoded data removed]",
      "text/plain": [
       "<Figure size 720x576 with 2 Axes>"
      ]
     },
     "metadata": {},
     "output_type": "display_data"
    }
   ],
   "source": [
    "x = diversify(pred[0, 0, :], 10, True)\n",
    "index_word[np.argmax(x)]"
   ]
  },
  {
   "cell_type": "code",
   "execution_count": 101,
   "metadata": {},
   "outputs": [
    {
     "name": "stdout",
     "output_type": "stream",
     "text": [
      "used\n",
      "DNS\n",
      "distance”\n",
      "cryptographic\n",
      "time,\n",
      "chances\n",
      "operator\n",
      "neighbor\n",
      "classifier\n",
      "structure.\n",
      "Internet-based\n",
      "passive\n",
      "one-way.\n",
      "taste,\n",
      "managed\n",
      "turned.\n",
      "full-scale\n",
      "gun\n",
      "crew\n",
      "Control\n"
     ]
    }
   ],
   "source": [
    "for d in np.arange(1, 5, 0.2):\n",
    "    x = diversify(pred[0, 0, :], d)\n",
    "    print(index_word[np.argmax(x)])"
   ]
  },
  {
   "cell_type": "code",
   "execution_count": 100,
   "metadata": {},
   "outputs": [
    {
     "data": {
      "text/plain": [
       "'dictionary.'"
      ]
     },
     "execution_count": 100,
     "metadata": {},
     "output_type": "execute_result"
    },
    {
     "data": {
      "image/png": "[encoded data removed]",
      "text/plain": [
       "<Figure size 720x576 with 2 Axes>"
      ]
     },
     "metadata": {},
     "output_type": "display_data"
    }
   ],
   "source": [
    "x = diversify(pred[0, 0, :], 1, True)\n",
    "index_word[np.argmax(x)]"
   ]
  },
  {
   "cell_type": "code",
   "execution_count": 78,
   "metadata": {},
   "outputs": [
    {
     "data": {
      "text/plain": [
       "19599"
      ]
     },
     "execution_count": 78,
     "metadata": {},
     "output_type": "execute_result"
    }
   ],
   "source": [
    "np.argmax(x)"
   ]
  },
  {
   "cell_type": "code",
   "execution_count": 76,
   "metadata": {},
   "outputs": [],
   "source": [
    "sorted_p = np.sort(pred)"
   ]
  },
  {
   "cell_type": "code",
   "execution_count": null,
   "metadata": {},
   "outputs": [],
   "source": []
  }
 ],
 "metadata": {
  "kernelspec": {
   "display_name": "Python [conda env:tensorflow_p36]",
   "language": "python",
   "name": "conda-env-tensorflow_p36-py"
  },
  "language_info": {
   "codemirror_mode": {
    "name": "ipython",
    "version": 3
   },
   "file_extension": ".py",
   "mimetype": "text/x-python",
   "name": "python",
   "nbconvert_exporter": "python",
   "pygments_lexer": "ipython3",
   "version": "3.6.6"
  }
 },
 "nbformat": 4,
 "nbformat_minor": 2
}
